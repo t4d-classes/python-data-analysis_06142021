{
 "cells": [
  {
   "cell_type": "markdown",
   "id": "c1428842-3125-454e-9517-f1cecfd1ee7b",
   "metadata": {},
   "source": [
    "# Pandas Intro"
   ]
  },
  {
   "cell_type": "code",
   "execution_count": 38,
   "id": "c4d8e6a5-baa8-4671-8bfb-e9031825c56b",
   "metadata": {},
   "outputs": [],
   "source": [
    "import pandas as pd\n",
    "import numpy as np"
   ]
  },
  {
   "cell_type": "code",
   "execution_count": 39,
   "id": "4feef25e-39f1-4ded-96e9-22d4eefbc526",
   "metadata": {},
   "outputs": [
    {
     "data": {
      "text/plain": [
       "{'Alexandria': 80847,\n",
       " 'Amherst': 44757,\n",
       " 'Arlington': 94880,\n",
       " 'Augusta': 50612,\n",
       " 'Bedford': 54110,\n",
       " 'Botetourt': 64724,\n",
       " 'Fairfax': 105416,\n",
       " 'Falls Church': 114409,\n",
       " 'Prince William': 91098}"
      ]
     },
     "execution_count": 39,
     "metadata": {},
     "output_type": "execute_result"
    }
   ],
   "source": [
    "median_income_dict = {\n",
    "    \"Alexandria\": 80847,\n",
    "    \"Amherst\": 44757,\n",
    "    \"Arlington\": 94880,\n",
    "    \"Augusta\": 50612,\n",
    "    \"Bedford\": 54110,\n",
    "    \"Botetourt\": 64724,\n",
    "    \"Fairfax\": 105416,\n",
    "    \"Falls Church\": 114409,\n",
    "    \"Prince William\": 91098,\n",
    "}\n",
    "\n",
    "median_income_dict"
   ]
  },
  {
   "cell_type": "code",
   "execution_count": 40,
   "id": "2869fc3b-5477-40fa-b39b-5e21b0cd0ee9",
   "metadata": {},
   "outputs": [
    {
     "data": {
      "text/plain": [
       "54110"
      ]
     },
     "execution_count": 40,
     "metadata": {},
     "output_type": "execute_result"
    }
   ],
   "source": [
    "median_income_dict[\"Bedford\"] # dictionary key as like an index"
   ]
  },
  {
   "cell_type": "code",
   "execution_count": 41,
   "id": "d7934c83-d0f9-456c-8f9c-d749d05b0924",
   "metadata": {},
   "outputs": [],
   "source": [
    "median_income_series = pd.Series(median_income_dict, dtype=np.int32)"
   ]
  },
  {
   "cell_type": "code",
   "execution_count": 42,
   "id": "e2a36985-0643-4cba-8139-8b142e58cc45",
   "metadata": {},
   "outputs": [
    {
     "data": {
      "text/plain": [
       "Alexandria         80847\n",
       "Amherst            44757\n",
       "Arlington          94880\n",
       "Augusta            50612\n",
       "Bedford            54110\n",
       "Botetourt          64724\n",
       "Fairfax           105416\n",
       "Falls Church      114409\n",
       "Prince William     91098\n",
       "dtype: int32"
      ]
     },
     "execution_count": 42,
     "metadata": {},
     "output_type": "execute_result"
    }
   ],
   "source": [
    "median_income_series"
   ]
  },
  {
   "cell_type": "code",
   "execution_count": 43,
   "id": "5510bd9d-ed8f-4d83-9687-2ebae2ae4002",
   "metadata": {},
   "outputs": [
    {
     "data": {
      "text/plain": [
       "Alexandria    80847\n",
       "Amherst       44757\n",
       "Arlington     94880\n",
       "Augusta       50612\n",
       "Bedford       54110\n",
       "dtype: int32"
      ]
     },
     "execution_count": 43,
     "metadata": {},
     "output_type": "execute_result"
    }
   ],
   "source": [
    "median_income_series.head()"
   ]
  },
  {
   "cell_type": "code",
   "execution_count": 44,
   "id": "fdfbb82a-15b6-4482-984d-9ddcff6d8c0f",
   "metadata": {},
   "outputs": [
    {
     "data": {
      "text/plain": [
       "Alexandria    80847\n",
       "Amherst       44757\n",
       "Arlington     94880\n",
       "dtype: int32"
      ]
     },
     "execution_count": 44,
     "metadata": {},
     "output_type": "execute_result"
    }
   ],
   "source": [
    "median_income_series.head(3)"
   ]
  },
  {
   "cell_type": "code",
   "execution_count": 45,
   "id": "d6c5e028-92d0-4f7e-883d-f537af614699",
   "metadata": {},
   "outputs": [
    {
     "data": {
      "text/plain": [
       "Bedford            54110\n",
       "Botetourt          64724\n",
       "Fairfax           105416\n",
       "Falls Church      114409\n",
       "Prince William     91098\n",
       "dtype: int32"
      ]
     },
     "execution_count": 45,
     "metadata": {},
     "output_type": "execute_result"
    }
   ],
   "source": [
    "median_income_series.tail()"
   ]
  },
  {
   "cell_type": "code",
   "execution_count": 46,
   "id": "dc63e7c9-32df-49b8-8ddd-3e45fe75d80a",
   "metadata": {},
   "outputs": [
    {
     "data": {
      "text/plain": [
       "Fairfax           105416\n",
       "Falls Church      114409\n",
       "Prince William     91098\n",
       "dtype: int32"
      ]
     },
     "execution_count": 46,
     "metadata": {},
     "output_type": "execute_result"
    }
   ],
   "source": [
    "median_income_series.tail(3)"
   ]
  },
  {
   "cell_type": "code",
   "execution_count": 47,
   "id": "aa7ce65f-60c4-41f2-9300-3f38fa55158d",
   "metadata": {},
   "outputs": [
    {
     "data": {
      "text/plain": [
       "Index(['Alexandria', 'Amherst', 'Arlington', 'Augusta', 'Bedford', 'Botetourt',\n",
       "       'Fairfax', 'Falls Church', 'Prince William'],\n",
       "      dtype='object')"
      ]
     },
     "execution_count": 47,
     "metadata": {},
     "output_type": "execute_result"
    }
   ],
   "source": [
    "median_income_series.index"
   ]
  },
  {
   "cell_type": "code",
   "execution_count": 48,
   "id": "93fa0bf4-33ac-4ba4-8298-93e2b5e79ddb",
   "metadata": {},
   "outputs": [
    {
     "data": {
      "text/plain": [
       "array([ 80847,  44757,  94880,  50612,  54110,  64724, 105416, 114409,\n",
       "        91098])"
      ]
     },
     "execution_count": 48,
     "metadata": {},
     "output_type": "execute_result"
    }
   ],
   "source": [
    "median_income_series.values"
   ]
  },
  {
   "cell_type": "code",
   "execution_count": 49,
   "id": "ea0098c3-12e0-45cc-9694-ae3c1ab2b6e9",
   "metadata": {},
   "outputs": [
    {
     "data": {
      "text/plain": [
       "numpy.ndarray"
      ]
     },
     "execution_count": 49,
     "metadata": {},
     "output_type": "execute_result"
    }
   ],
   "source": [
    "type(median_income_series.values)"
   ]
  },
  {
   "cell_type": "code",
   "execution_count": 50,
   "id": "403bcf33-d51c-422e-ba49-6a1144690508",
   "metadata": {},
   "outputs": [
    {
     "data": {
      "text/plain": [
       "44757"
      ]
     },
     "execution_count": 50,
     "metadata": {},
     "output_type": "execute_result"
    }
   ],
   "source": [
    "median_income_series[\"Amherst\"]"
   ]
  },
  {
   "cell_type": "code",
   "execution_count": 51,
   "id": "1d08716e-0967-4afb-8873-92c231261b18",
   "metadata": {},
   "outputs": [
    {
     "data": {
      "text/plain": [
       "Amherst    44757\n",
       "Augusta    50612\n",
       "dtype: int32"
      ]
     },
     "execution_count": 51,
     "metadata": {},
     "output_type": "execute_result"
    }
   ],
   "source": [
    "median_income_series[ [\"Amherst\", \"Augusta\"] ]"
   ]
  },
  {
   "cell_type": "code",
   "execution_count": 53,
   "id": "da14b4b1-a1e1-482f-a9f9-5a23a084a98c",
   "metadata": {},
   "outputs": [
    {
     "data": {
      "text/plain": [
       "Amherst      44757\n",
       "Arlington    94880\n",
       "Augusta      50612\n",
       "Bedford      54110\n",
       "dtype: int32"
      ]
     },
     "execution_count": 53,
     "metadata": {},
     "output_type": "execute_result"
    }
   ],
   "source": [
    "median_income_series[\"Amherst\":\"Bedford\"]"
   ]
  },
  {
   "cell_type": "code",
   "execution_count": 54,
   "id": "1a92fe25-50ab-4db2-94f7-99bcfc241baa",
   "metadata": {},
   "outputs": [
    {
     "data": {
      "text/plain": [
       "Amherst    44757\n",
       "Augusta    50612\n",
       "dtype: int32"
      ]
     },
     "execution_count": 54,
     "metadata": {},
     "output_type": "execute_result"
    }
   ],
   "source": [
    "median_income_series.loc[ [\"Amherst\", \"Augusta\"] ]"
   ]
  },
  {
   "cell_type": "code",
   "execution_count": 55,
   "id": "05b279de-91b4-4530-a39f-3a068f0a35a8",
   "metadata": {},
   "outputs": [
    {
     "data": {
      "text/plain": [
       "44757"
      ]
     },
     "execution_count": 55,
     "metadata": {},
     "output_type": "execute_result"
    }
   ],
   "source": [
    "median_income_series[1]"
   ]
  },
  {
   "cell_type": "code",
   "execution_count": 56,
   "id": "16bb20bd-1fc0-4515-933e-b4a617854ae2",
   "metadata": {},
   "outputs": [
    {
     "data": {
      "text/plain": [
       "Amherst      44757\n",
       "Arlington    94880\n",
       "dtype: int32"
      ]
     },
     "execution_count": 56,
     "metadata": {},
     "output_type": "execute_result"
    }
   ],
   "source": [
    "median_income_series[ [1,2] ]"
   ]
  },
  {
   "cell_type": "code",
   "execution_count": 57,
   "id": "bd439eff-91f1-41c3-a08a-348951e80be6",
   "metadata": {},
   "outputs": [
    {
     "data": {
      "text/plain": [
       "Amherst      44757\n",
       "Arlington    94880\n",
       "dtype: int32"
      ]
     },
     "execution_count": 57,
     "metadata": {},
     "output_type": "execute_result"
    }
   ],
   "source": [
    "median_income_series[1:3]"
   ]
  },
  {
   "cell_type": "code",
   "execution_count": 59,
   "id": "803e2653-d05f-4317-bc1d-45de63196193",
   "metadata": {},
   "outputs": [
    {
     "data": {
      "text/plain": [
       "Arlington    94880\n",
       "Botetourt    64724\n",
       "dtype: int32"
      ]
     },
     "execution_count": 59,
     "metadata": {},
     "output_type": "execute_result"
    }
   ],
   "source": [
    "median_income_series.iloc[ [2,5]]"
   ]
  },
  {
   "cell_type": "code",
   "execution_count": 60,
   "id": "ca16947c-84f2-411d-90e0-fc467d756632",
   "metadata": {},
   "outputs": [
    {
     "data": {
      "text/plain": [
       "(9,)"
      ]
     },
     "execution_count": 60,
     "metadata": {},
     "output_type": "execute_result"
    }
   ],
   "source": [
    "median_income_series.shape"
   ]
  },
  {
   "cell_type": "code",
   "execution_count": 62,
   "id": "4ba2d5d8-2912-42ba-b811-bfe98f27c4a1",
   "metadata": {},
   "outputs": [
    {
     "data": {
      "text/plain": [
       "Alexandria         68082\n",
       "Amherst            12560\n",
       "Arlington          98050\n",
       "Augusta            28516\n",
       "Bedford            27465\n",
       "Botetourt          13126\n",
       "Fairfax           391627\n",
       "Falls Church        5101\n",
       "Prince William    130785\n",
       "dtype: int64"
      ]
     },
     "execution_count": 62,
     "metadata": {},
     "output_type": "execute_result"
    }
   ],
   "source": [
    "households_dict = {\n",
    "    \"Alexandria\": 68082,\n",
    "    \"Amherst\": 12560,\n",
    "    \"Arlington\": 98050,\n",
    "    \"Augusta\": 28516,\n",
    "    \"Bedford\": 27465,\n",
    "    \"Botetourt\": 13126,\n",
    "    \"Fairfax\": 391627,\n",
    "    \"Falls Church\":\t5101,\n",
    "    \"Prince William\": 130785,\n",
    "}\n",
    "\n",
    "households_series = pd.Series(households_dict)\n",
    "\n",
    "households_series"
   ]
  },
  {
   "cell_type": "code",
   "execution_count": 66,
   "id": "e4200c89-3052-4997-8cae-ce9a6d49497c",
   "metadata": {},
   "outputs": [
    {
     "data": {
      "text/html": [
       "<div>\n",
       "<style scoped>\n",
       "    .dataframe tbody tr th:only-of-type {\n",
       "        vertical-align: middle;\n",
       "    }\n",
       "\n",
       "    .dataframe tbody tr th {\n",
       "        vertical-align: top;\n",
       "    }\n",
       "\n",
       "    .dataframe thead th {\n",
       "        text-align: right;\n",
       "    }\n",
       "</style>\n",
       "<table border=\"1\" class=\"dataframe\">\n",
       "  <thead>\n",
       "    <tr style=\"text-align: right;\">\n",
       "      <th></th>\n",
       "      <th>median_income</th>\n",
       "      <th>households</th>\n",
       "    </tr>\n",
       "  </thead>\n",
       "  <tbody>\n",
       "    <tr>\n",
       "      <th>Alexandria</th>\n",
       "      <td>80847</td>\n",
       "      <td>68082</td>\n",
       "    </tr>\n",
       "    <tr>\n",
       "      <th>Amherst</th>\n",
       "      <td>44757</td>\n",
       "      <td>12560</td>\n",
       "    </tr>\n",
       "    <tr>\n",
       "      <th>Arlington</th>\n",
       "      <td>94880</td>\n",
       "      <td>98050</td>\n",
       "    </tr>\n",
       "    <tr>\n",
       "      <th>Augusta</th>\n",
       "      <td>50612</td>\n",
       "      <td>28516</td>\n",
       "    </tr>\n",
       "    <tr>\n",
       "      <th>Bedford</th>\n",
       "      <td>54110</td>\n",
       "      <td>27465</td>\n",
       "    </tr>\n",
       "    <tr>\n",
       "      <th>Botetourt</th>\n",
       "      <td>64724</td>\n",
       "      <td>13126</td>\n",
       "    </tr>\n",
       "    <tr>\n",
       "      <th>Fairfax</th>\n",
       "      <td>105416</td>\n",
       "      <td>391627</td>\n",
       "    </tr>\n",
       "    <tr>\n",
       "      <th>Falls Church</th>\n",
       "      <td>114409</td>\n",
       "      <td>5101</td>\n",
       "    </tr>\n",
       "    <tr>\n",
       "      <th>Prince William</th>\n",
       "      <td>91098</td>\n",
       "      <td>130785</td>\n",
       "    </tr>\n",
       "  </tbody>\n",
       "</table>\n",
       "</div>"
      ],
      "text/plain": [
       "                median_income  households\n",
       "Alexandria              80847       68082\n",
       "Amherst                 44757       12560\n",
       "Arlington               94880       98050\n",
       "Augusta                 50612       28516\n",
       "Bedford                 54110       27465\n",
       "Botetourt               64724       13126\n",
       "Fairfax                105416      391627\n",
       "Falls Church           114409        5101\n",
       "Prince William          91098      130785"
      ]
     },
     "execution_count": 66,
     "metadata": {},
     "output_type": "execute_result"
    }
   ],
   "source": [
    "counties = pd.DataFrame({\n",
    "    \"median_income\": median_income_series,\n",
    "    \"households\": households_series\n",
    "})\n",
    "\n",
    "counties"
   ]
  },
  {
   "cell_type": "code",
   "execution_count": 67,
   "id": "4e690608-fcc0-4869-87c2-5b25e89df2ea",
   "metadata": {},
   "outputs": [
    {
     "data": {
      "text/plain": [
       "Index(['median_income', 'households'], dtype='object')"
      ]
     },
     "execution_count": 67,
     "metadata": {},
     "output_type": "execute_result"
    }
   ],
   "source": [
    "counties.columns"
   ]
  },
  {
   "cell_type": "code",
   "execution_count": 68,
   "id": "b1808792-3a38-439f-b96a-bea5aef62eea",
   "metadata": {},
   "outputs": [
    {
     "data": {
      "text/plain": [
       "Index(['Alexandria', 'Amherst', 'Arlington', 'Augusta', 'Bedford', 'Botetourt',\n",
       "       'Fairfax', 'Falls Church', 'Prince William'],\n",
       "      dtype='object')"
      ]
     },
     "execution_count": 68,
     "metadata": {},
     "output_type": "execute_result"
    }
   ],
   "source": [
    "counties.index"
   ]
  },
  {
   "cell_type": "code",
   "execution_count": 69,
   "id": "39a569dd-88d9-4266-9de8-76a605b71133",
   "metadata": {},
   "outputs": [
    {
     "data": {
      "text/plain": [
       "array([[ 80847,  68082],\n",
       "       [ 44757,  12560],\n",
       "       [ 94880,  98050],\n",
       "       [ 50612,  28516],\n",
       "       [ 54110,  27465],\n",
       "       [ 64724,  13126],\n",
       "       [105416, 391627],\n",
       "       [114409,   5101],\n",
       "       [ 91098, 130785]], dtype=int64)"
      ]
     },
     "execution_count": 69,
     "metadata": {},
     "output_type": "execute_result"
    }
   ],
   "source": [
    "counties.values"
   ]
  },
  {
   "cell_type": "code",
   "execution_count": 70,
   "id": "b6afc6e1-8675-4b9f-a045-13a863d819cb",
   "metadata": {},
   "outputs": [
    {
     "data": {
      "text/plain": [
       "numpy.ndarray"
      ]
     },
     "execution_count": 70,
     "metadata": {},
     "output_type": "execute_result"
    }
   ],
   "source": [
    "type(counties.values)"
   ]
  },
  {
   "cell_type": "code",
   "execution_count": 71,
   "id": "dccb8e05-3c72-4a41-90e1-85d1b974003f",
   "metadata": {},
   "outputs": [],
   "source": [
    "counties.columns = [ \"Median Income\", \"Households\" ]"
   ]
  },
  {
   "cell_type": "code",
   "execution_count": 72,
   "id": "42e80e01-6165-4cdf-9600-7aac9c82b7e4",
   "metadata": {},
   "outputs": [
    {
     "data": {
      "text/html": [
       "<div>\n",
       "<style scoped>\n",
       "    .dataframe tbody tr th:only-of-type {\n",
       "        vertical-align: middle;\n",
       "    }\n",
       "\n",
       "    .dataframe tbody tr th {\n",
       "        vertical-align: top;\n",
       "    }\n",
       "\n",
       "    .dataframe thead th {\n",
       "        text-align: right;\n",
       "    }\n",
       "</style>\n",
       "<table border=\"1\" class=\"dataframe\">\n",
       "  <thead>\n",
       "    <tr style=\"text-align: right;\">\n",
       "      <th></th>\n",
       "      <th>Median Income</th>\n",
       "      <th>Households</th>\n",
       "    </tr>\n",
       "  </thead>\n",
       "  <tbody>\n",
       "    <tr>\n",
       "      <th>Alexandria</th>\n",
       "      <td>80847</td>\n",
       "      <td>68082</td>\n",
       "    </tr>\n",
       "    <tr>\n",
       "      <th>Amherst</th>\n",
       "      <td>44757</td>\n",
       "      <td>12560</td>\n",
       "    </tr>\n",
       "    <tr>\n",
       "      <th>Arlington</th>\n",
       "      <td>94880</td>\n",
       "      <td>98050</td>\n",
       "    </tr>\n",
       "    <tr>\n",
       "      <th>Augusta</th>\n",
       "      <td>50612</td>\n",
       "      <td>28516</td>\n",
       "    </tr>\n",
       "    <tr>\n",
       "      <th>Bedford</th>\n",
       "      <td>54110</td>\n",
       "      <td>27465</td>\n",
       "    </tr>\n",
       "    <tr>\n",
       "      <th>Botetourt</th>\n",
       "      <td>64724</td>\n",
       "      <td>13126</td>\n",
       "    </tr>\n",
       "    <tr>\n",
       "      <th>Fairfax</th>\n",
       "      <td>105416</td>\n",
       "      <td>391627</td>\n",
       "    </tr>\n",
       "    <tr>\n",
       "      <th>Falls Church</th>\n",
       "      <td>114409</td>\n",
       "      <td>5101</td>\n",
       "    </tr>\n",
       "    <tr>\n",
       "      <th>Prince William</th>\n",
       "      <td>91098</td>\n",
       "      <td>130785</td>\n",
       "    </tr>\n",
       "  </tbody>\n",
       "</table>\n",
       "</div>"
      ],
      "text/plain": [
       "                Median Income  Households\n",
       "Alexandria              80847       68082\n",
       "Amherst                 44757       12560\n",
       "Arlington               94880       98050\n",
       "Augusta                 50612       28516\n",
       "Bedford                 54110       27465\n",
       "Botetourt               64724       13126\n",
       "Fairfax                105416      391627\n",
       "Falls Church           114409        5101\n",
       "Prince William          91098      130785"
      ]
     },
     "execution_count": 72,
     "metadata": {},
     "output_type": "execute_result"
    }
   ],
   "source": [
    "counties"
   ]
  },
  {
   "cell_type": "code",
   "execution_count": 73,
   "id": "0f348b22-3cf0-47d3-8335-3f4bee5a216f",
   "metadata": {},
   "outputs": [
    {
     "data": {
      "text/plain": [
       "Alexandria      Median Income     80847\n",
       "                Households        68082\n",
       "Amherst         Median Income     44757\n",
       "                Households        12560\n",
       "Arlington       Median Income     94880\n",
       "                Households        98050\n",
       "Augusta         Median Income     50612\n",
       "                Households        28516\n",
       "Bedford         Median Income     54110\n",
       "                Households        27465\n",
       "Botetourt       Median Income     64724\n",
       "                Households        13126\n",
       "Fairfax         Median Income    105416\n",
       "                Households       391627\n",
       "Falls Church    Median Income    114409\n",
       "                Households         5101\n",
       "Prince William  Median Income     91098\n",
       "                Households       130785\n",
       "dtype: int64"
      ]
     },
     "execution_count": 73,
     "metadata": {},
     "output_type": "execute_result"
    }
   ],
   "source": [
    "counties2 = counties.stack()\n",
    "\n",
    "counties2"
   ]
  },
  {
   "cell_type": "code",
   "execution_count": 74,
   "id": "3320d6f6-65c4-422d-989c-d450cbcc342c",
   "metadata": {},
   "outputs": [
    {
     "data": {
      "text/plain": [
       "pandas.core.series.Series"
      ]
     },
     "execution_count": 74,
     "metadata": {},
     "output_type": "execute_result"
    }
   ],
   "source": [
    "type(counties2)"
   ]
  },
  {
   "cell_type": "code",
   "execution_count": 75,
   "id": "d2cb602e-e864-4cba-85bb-33fbf49b3fa9",
   "metadata": {},
   "outputs": [
    {
     "data": {
      "text/plain": [
       "MultiIndex([(    'Alexandria', 'Median Income'),\n",
       "            (    'Alexandria',    'Households'),\n",
       "            (       'Amherst', 'Median Income'),\n",
       "            (       'Amherst',    'Households'),\n",
       "            (     'Arlington', 'Median Income'),\n",
       "            (     'Arlington',    'Households'),\n",
       "            (       'Augusta', 'Median Income'),\n",
       "            (       'Augusta',    'Households'),\n",
       "            (       'Bedford', 'Median Income'),\n",
       "            (       'Bedford',    'Households'),\n",
       "            (     'Botetourt', 'Median Income'),\n",
       "            (     'Botetourt',    'Households'),\n",
       "            (       'Fairfax', 'Median Income'),\n",
       "            (       'Fairfax',    'Households'),\n",
       "            (  'Falls Church', 'Median Income'),\n",
       "            (  'Falls Church',    'Households'),\n",
       "            ('Prince William', 'Median Income'),\n",
       "            ('Prince William',    'Households')],\n",
       "           )"
      ]
     },
     "execution_count": 75,
     "metadata": {},
     "output_type": "execute_result"
    }
   ],
   "source": [
    "counties2.index"
   ]
  },
  {
   "cell_type": "code",
   "execution_count": 76,
   "id": "d9efdd8b-7dcc-4ef1-b602-9b0e5d0cb155",
   "metadata": {},
   "outputs": [
    {
     "data": {
      "text/plain": [
       "array([ 80847,  68082,  44757,  12560,  94880,  98050,  50612,  28516,\n",
       "        54110,  27465,  64724,  13126, 105416, 391627, 114409,   5101,\n",
       "        91098, 130785], dtype=int64)"
      ]
     },
     "execution_count": 76,
     "metadata": {},
     "output_type": "execute_result"
    }
   ],
   "source": [
    "counties2.values"
   ]
  },
  {
   "cell_type": "code",
   "execution_count": 87,
   "id": "96a2a2fb-c4d5-4547-b811-9f2861fc7e48",
   "metadata": {},
   "outputs": [
    {
     "data": {
      "text/plain": [
       "Alexandria      Median Income     80847\n",
       "                Households        68082\n",
       "Amherst         Median Income     44757\n",
       "                Households        12560\n",
       "Arlington       Median Income     94880\n",
       "                Households        98050\n",
       "Augusta         Median Income     50612\n",
       "                Households        28516\n",
       "Bedford         Median Income     54110\n",
       "                Households        27465\n",
       "Botetourt       Median Income     64724\n",
       "                Households        13126\n",
       "Fairfax         Median Income    105416\n",
       "                Households       391627\n",
       "Falls Church    Median Income    114409\n",
       "                Households         5101\n",
       "Prince William  Median Income     91098\n",
       "                Households       130785\n",
       "dtype: int64"
      ]
     },
     "execution_count": 87,
     "metadata": {},
     "output_type": "execute_result"
    }
   ],
   "source": [
    "counties2 = counties.stack()\n",
    "\n",
    "counties2"
   ]
  },
  {
   "cell_type": "code",
   "execution_count": 88,
   "id": "3fda6951-3f01-442a-aea9-f0de1e2ce31c",
   "metadata": {},
   "outputs": [
    {
     "data": {
      "text/html": [
       "<div>\n",
       "<style scoped>\n",
       "    .dataframe tbody tr th:only-of-type {\n",
       "        vertical-align: middle;\n",
       "    }\n",
       "\n",
       "    .dataframe tbody tr th {\n",
       "        vertical-align: top;\n",
       "    }\n",
       "\n",
       "    .dataframe thead th {\n",
       "        text-align: right;\n",
       "    }\n",
       "</style>\n",
       "<table border=\"1\" class=\"dataframe\">\n",
       "  <thead>\n",
       "    <tr style=\"text-align: right;\">\n",
       "      <th></th>\n",
       "      <th>Alexandria</th>\n",
       "      <th>Amherst</th>\n",
       "      <th>Arlington</th>\n",
       "      <th>Augusta</th>\n",
       "      <th>Bedford</th>\n",
       "      <th>Botetourt</th>\n",
       "      <th>Fairfax</th>\n",
       "      <th>Falls Church</th>\n",
       "      <th>Prince William</th>\n",
       "    </tr>\n",
       "  </thead>\n",
       "  <tbody>\n",
       "    <tr>\n",
       "      <th>Median Income</th>\n",
       "      <td>80847</td>\n",
       "      <td>44757</td>\n",
       "      <td>94880</td>\n",
       "      <td>50612</td>\n",
       "      <td>54110</td>\n",
       "      <td>64724</td>\n",
       "      <td>105416</td>\n",
       "      <td>114409</td>\n",
       "      <td>91098</td>\n",
       "    </tr>\n",
       "    <tr>\n",
       "      <th>Households</th>\n",
       "      <td>68082</td>\n",
       "      <td>12560</td>\n",
       "      <td>98050</td>\n",
       "      <td>28516</td>\n",
       "      <td>27465</td>\n",
       "      <td>13126</td>\n",
       "      <td>391627</td>\n",
       "      <td>5101</td>\n",
       "      <td>130785</td>\n",
       "    </tr>\n",
       "  </tbody>\n",
       "</table>\n",
       "</div>"
      ],
      "text/plain": [
       "               Alexandria  Amherst  Arlington  Augusta  Bedford  Botetourt  \\\n",
       "Median Income       80847    44757      94880    50612    54110      64724   \n",
       "Households          68082    12560      98050    28516    27465      13126   \n",
       "\n",
       "               Fairfax  Falls Church  Prince William  \n",
       "Median Income   105416        114409           91098  \n",
       "Households      391627          5101          130785  "
      ]
     },
     "execution_count": 88,
     "metadata": {},
     "output_type": "execute_result"
    }
   ],
   "source": [
    "counties2 = counties2.unstack(0)\n",
    "\n",
    "counties2"
   ]
  },
  {
   "cell_type": "code",
   "execution_count": 92,
   "id": "2eb7929c-a30a-4207-8dcb-98fa5e0c4798",
   "metadata": {},
   "outputs": [
    {
     "data": {
      "text/plain": [
       "Alexandria      Median Income     80847\n",
       "                Households        68082\n",
       "Amherst         Median Income     44757\n",
       "                Households        12560\n",
       "Arlington       Median Income     94880\n",
       "                Households        98050\n",
       "Augusta         Median Income     50612\n",
       "                Households        28516\n",
       "Bedford         Median Income     54110\n",
       "                Households        27465\n",
       "Botetourt       Median Income     64724\n",
       "                Households        13126\n",
       "Fairfax         Median Income    105416\n",
       "                Households       391627\n",
       "Falls Church    Median Income    114409\n",
       "                Households         5101\n",
       "Prince William  Median Income     91098\n",
       "                Households       130785\n",
       "dtype: int64"
      ]
     },
     "execution_count": 92,
     "metadata": {},
     "output_type": "execute_result"
    }
   ],
   "source": [
    "counties2.unstack()"
   ]
  },
  {
   "cell_type": "code",
   "execution_count": 91,
   "id": "c5729225-a03f-4fdd-b974-c443cbbb781a",
   "metadata": {},
   "outputs": [
    {
     "data": {
      "text/html": [
       "<div>\n",
       "<style scoped>\n",
       "    .dataframe tbody tr th:only-of-type {\n",
       "        vertical-align: middle;\n",
       "    }\n",
       "\n",
       "    .dataframe tbody tr th {\n",
       "        vertical-align: top;\n",
       "    }\n",
       "\n",
       "    .dataframe thead th {\n",
       "        text-align: right;\n",
       "    }\n",
       "</style>\n",
       "<table border=\"1\" class=\"dataframe\">\n",
       "  <thead>\n",
       "    <tr style=\"text-align: right;\">\n",
       "      <th></th>\n",
       "      <th>Median Income</th>\n",
       "      <th>Households</th>\n",
       "    </tr>\n",
       "  </thead>\n",
       "  <tbody>\n",
       "    <tr>\n",
       "      <th>Alexandria</th>\n",
       "      <td>80847</td>\n",
       "      <td>68082</td>\n",
       "    </tr>\n",
       "    <tr>\n",
       "      <th>Amherst</th>\n",
       "      <td>44757</td>\n",
       "      <td>12560</td>\n",
       "    </tr>\n",
       "    <tr>\n",
       "      <th>Arlington</th>\n",
       "      <td>94880</td>\n",
       "      <td>98050</td>\n",
       "    </tr>\n",
       "    <tr>\n",
       "      <th>Augusta</th>\n",
       "      <td>50612</td>\n",
       "      <td>28516</td>\n",
       "    </tr>\n",
       "    <tr>\n",
       "      <th>Bedford</th>\n",
       "      <td>54110</td>\n",
       "      <td>27465</td>\n",
       "    </tr>\n",
       "    <tr>\n",
       "      <th>Botetourt</th>\n",
       "      <td>64724</td>\n",
       "      <td>13126</td>\n",
       "    </tr>\n",
       "    <tr>\n",
       "      <th>Fairfax</th>\n",
       "      <td>105416</td>\n",
       "      <td>391627</td>\n",
       "    </tr>\n",
       "    <tr>\n",
       "      <th>Falls Church</th>\n",
       "      <td>114409</td>\n",
       "      <td>5101</td>\n",
       "    </tr>\n",
       "    <tr>\n",
       "      <th>Prince William</th>\n",
       "      <td>91098</td>\n",
       "      <td>130785</td>\n",
       "    </tr>\n",
       "  </tbody>\n",
       "</table>\n",
       "</div>"
      ],
      "text/plain": [
       "                Median Income  Households\n",
       "Alexandria              80847       68082\n",
       "Amherst                 44757       12560\n",
       "Arlington               94880       98050\n",
       "Augusta                 50612       28516\n",
       "Bedford                 54110       27465\n",
       "Botetourt               64724       13126\n",
       "Fairfax                105416      391627\n",
       "Falls Church           114409        5101\n",
       "Prince William          91098      130785"
      ]
     },
     "execution_count": 91,
     "metadata": {},
     "output_type": "execute_result"
    }
   ],
   "source": [
    "counties"
   ]
  },
  {
   "cell_type": "code",
   "execution_count": 93,
   "id": "faa0f34f-670c-4197-a51a-784292d3e289",
   "metadata": {},
   "outputs": [
    {
     "data": {
      "text/plain": [
       "Alexandria         80847\n",
       "Amherst            44757\n",
       "Arlington          94880\n",
       "Augusta            50612\n",
       "Bedford            54110\n",
       "Botetourt          64724\n",
       "Fairfax           105416\n",
       "Falls Church      114409\n",
       "Prince William     91098\n",
       "dtype: int32"
      ]
     },
     "execution_count": 93,
     "metadata": {},
     "output_type": "execute_result"
    }
   ],
   "source": [
    "median_income_series"
   ]
  },
  {
   "cell_type": "code",
   "execution_count": 94,
   "id": "0b57ede7-76a4-49c0-911b-21ad00eca3e3",
   "metadata": {},
   "outputs": [
    {
     "data": {
      "text/plain": [
       "44757"
      ]
     },
     "execution_count": 94,
     "metadata": {},
     "output_type": "execute_result"
    }
   ],
   "source": [
    "median_income_series[\"Amherst\"]"
   ]
  },
  {
   "cell_type": "code",
   "execution_count": 96,
   "id": "d2b590cf-e9ec-4d5e-ba10-fea1be248ef7",
   "metadata": {},
   "outputs": [
    {
     "data": {
      "text/plain": [
       "Alexandria         80847\n",
       "Amherst            44757\n",
       "Arlington          94880\n",
       "Augusta            50612\n",
       "Bedford            54110\n",
       "Botetourt          64724\n",
       "Fairfax           105416\n",
       "Falls Church      114409\n",
       "Prince William     91098\n",
       "Name: Median Income, dtype: int32"
      ]
     },
     "execution_count": 96,
     "metadata": {},
     "output_type": "execute_result"
    }
   ],
   "source": [
    "counties[\"Median Income\"]"
   ]
  },
  {
   "cell_type": "code",
   "execution_count": 97,
   "id": "ac20b090-e67b-4e55-8ff7-30468f9e4abb",
   "metadata": {},
   "outputs": [
    {
     "data": {
      "text/plain": [
       "pandas.core.series.Series"
      ]
     },
     "execution_count": 97,
     "metadata": {},
     "output_type": "execute_result"
    }
   ],
   "source": [
    "type(counties[\"Median Income\"])"
   ]
  },
  {
   "cell_type": "code",
   "execution_count": 98,
   "id": "7180f978-4e02-4b85-a835-b1a5b73e5496",
   "metadata": {},
   "outputs": [
    {
     "data": {
      "text/html": [
       "<div>\n",
       "<style scoped>\n",
       "    .dataframe tbody tr th:only-of-type {\n",
       "        vertical-align: middle;\n",
       "    }\n",
       "\n",
       "    .dataframe tbody tr th {\n",
       "        vertical-align: top;\n",
       "    }\n",
       "\n",
       "    .dataframe thead th {\n",
       "        text-align: right;\n",
       "    }\n",
       "</style>\n",
       "<table border=\"1\" class=\"dataframe\">\n",
       "  <thead>\n",
       "    <tr style=\"text-align: right;\">\n",
       "      <th></th>\n",
       "      <th>Median Income</th>\n",
       "      <th>Households</th>\n",
       "    </tr>\n",
       "  </thead>\n",
       "  <tbody>\n",
       "    <tr>\n",
       "      <th>Amherst</th>\n",
       "      <td>44757</td>\n",
       "      <td>12560</td>\n",
       "    </tr>\n",
       "    <tr>\n",
       "      <th>Augusta</th>\n",
       "      <td>50612</td>\n",
       "      <td>28516</td>\n",
       "    </tr>\n",
       "  </tbody>\n",
       "</table>\n",
       "</div>"
      ],
      "text/plain": [
       "         Median Income  Households\n",
       "Amherst          44757       12560\n",
       "Augusta          50612       28516"
      ]
     },
     "execution_count": 98,
     "metadata": {},
     "output_type": "execute_result"
    }
   ],
   "source": [
    "counties.loc [ [\"Amherst\", \"Augusta\"] ]"
   ]
  },
  {
   "cell_type": "code",
   "execution_count": 99,
   "id": "35fcf196-2c59-4040-8669-5bbb7dc0506d",
   "metadata": {},
   "outputs": [
    {
     "data": {
      "text/html": [
       "<div>\n",
       "<style scoped>\n",
       "    .dataframe tbody tr th:only-of-type {\n",
       "        vertical-align: middle;\n",
       "    }\n",
       "\n",
       "    .dataframe tbody tr th {\n",
       "        vertical-align: top;\n",
       "    }\n",
       "\n",
       "    .dataframe thead th {\n",
       "        text-align: right;\n",
       "    }\n",
       "</style>\n",
       "<table border=\"1\" class=\"dataframe\">\n",
       "  <thead>\n",
       "    <tr style=\"text-align: right;\">\n",
       "      <th></th>\n",
       "      <th>Median Income</th>\n",
       "      <th>Households</th>\n",
       "    </tr>\n",
       "  </thead>\n",
       "  <tbody>\n",
       "    <tr>\n",
       "      <th>Amherst</th>\n",
       "      <td>44757</td>\n",
       "      <td>12560</td>\n",
       "    </tr>\n",
       "    <tr>\n",
       "      <th>Arlington</th>\n",
       "      <td>94880</td>\n",
       "      <td>98050</td>\n",
       "    </tr>\n",
       "    <tr>\n",
       "      <th>Augusta</th>\n",
       "      <td>50612</td>\n",
       "      <td>28516</td>\n",
       "    </tr>\n",
       "    <tr>\n",
       "      <th>Bedford</th>\n",
       "      <td>54110</td>\n",
       "      <td>27465</td>\n",
       "    </tr>\n",
       "  </tbody>\n",
       "</table>\n",
       "</div>"
      ],
      "text/plain": [
       "           Median Income  Households\n",
       "Amherst            44757       12560\n",
       "Arlington          94880       98050\n",
       "Augusta            50612       28516\n",
       "Bedford            54110       27465"
      ]
     },
     "execution_count": 99,
     "metadata": {},
     "output_type": "execute_result"
    }
   ],
   "source": [
    "counties[\"Amherst\":\"Bedford\"]"
   ]
  },
  {
   "cell_type": "code",
   "execution_count": 100,
   "id": "2178e283-c5d3-46e6-92d3-d33b75dfc724",
   "metadata": {},
   "outputs": [
    {
     "data": {
      "text/html": [
       "<div>\n",
       "<style scoped>\n",
       "    .dataframe tbody tr th:only-of-type {\n",
       "        vertical-align: middle;\n",
       "    }\n",
       "\n",
       "    .dataframe tbody tr th {\n",
       "        vertical-align: top;\n",
       "    }\n",
       "\n",
       "    .dataframe thead th {\n",
       "        text-align: right;\n",
       "    }\n",
       "</style>\n",
       "<table border=\"1\" class=\"dataframe\">\n",
       "  <thead>\n",
       "    <tr style=\"text-align: right;\">\n",
       "      <th></th>\n",
       "      <th>Median Income</th>\n",
       "      <th>Households</th>\n",
       "      <th>Region</th>\n",
       "    </tr>\n",
       "  </thead>\n",
       "  <tbody>\n",
       "    <tr>\n",
       "      <th>Alexandria</th>\n",
       "      <td>80847</td>\n",
       "      <td>68082</td>\n",
       "      <td>Northern</td>\n",
       "    </tr>\n",
       "    <tr>\n",
       "      <th>Amherst</th>\n",
       "      <td>44757</td>\n",
       "      <td>12560</td>\n",
       "      <td>Central</td>\n",
       "    </tr>\n",
       "    <tr>\n",
       "      <th>Arlington</th>\n",
       "      <td>94880</td>\n",
       "      <td>98050</td>\n",
       "      <td>Northern</td>\n",
       "    </tr>\n",
       "    <tr>\n",
       "      <th>Augusta</th>\n",
       "      <td>50612</td>\n",
       "      <td>28516</td>\n",
       "      <td>Central</td>\n",
       "    </tr>\n",
       "    <tr>\n",
       "      <th>Bedford</th>\n",
       "      <td>54110</td>\n",
       "      <td>27465</td>\n",
       "      <td>Central</td>\n",
       "    </tr>\n",
       "    <tr>\n",
       "      <th>Botetourt</th>\n",
       "      <td>64724</td>\n",
       "      <td>13126</td>\n",
       "      <td>Southwestern</td>\n",
       "    </tr>\n",
       "    <tr>\n",
       "      <th>Fairfax</th>\n",
       "      <td>105416</td>\n",
       "      <td>391627</td>\n",
       "      <td>Northern</td>\n",
       "    </tr>\n",
       "    <tr>\n",
       "      <th>Falls Church</th>\n",
       "      <td>114409</td>\n",
       "      <td>5101</td>\n",
       "      <td>Northern</td>\n",
       "    </tr>\n",
       "    <tr>\n",
       "      <th>Prince William</th>\n",
       "      <td>91098</td>\n",
       "      <td>130785</td>\n",
       "      <td>Northern</td>\n",
       "    </tr>\n",
       "  </tbody>\n",
       "</table>\n",
       "</div>"
      ],
      "text/plain": [
       "                Median Income  Households        Region\n",
       "Alexandria              80847       68082      Northern\n",
       "Amherst                 44757       12560       Central\n",
       "Arlington               94880       98050      Northern\n",
       "Augusta                 50612       28516       Central\n",
       "Bedford                 54110       27465       Central\n",
       "Botetourt               64724       13126  Southwestern\n",
       "Fairfax                105416      391627      Northern\n",
       "Falls Church           114409        5101      Northern\n",
       "Prince William          91098      130785      Northern"
      ]
     },
     "execution_count": 100,
     "metadata": {},
     "output_type": "execute_result"
    }
   ],
   "source": [
    "counties[\"Region\"] = [\n",
    "    \"Northern\",\n",
    "    \"Central\",\n",
    "    \"Northern\",\n",
    "    \"Central\",\n",
    "    \"Central\",\n",
    "    \"Southwestern\",\n",
    "    \"Northern\",\n",
    "    \"Northern\",\n",
    "    \"Northern\",\n",
    "]\n",
    "\n",
    "counties"
   ]
  },
  {
   "cell_type": "code",
   "execution_count": 101,
   "id": "c31a3d02-3ef4-4abf-b5ca-d793536b241d",
   "metadata": {},
   "outputs": [],
   "source": [
    "counties[\"Total Household Income\"] = counties[\"Median Income\"] * counties[\"Households\"]"
   ]
  },
  {
   "cell_type": "code",
   "execution_count": 102,
   "id": "c4df3277-a770-40ea-ab03-1f2322745102",
   "metadata": {},
   "outputs": [
    {
     "data": {
      "text/html": [
       "<div>\n",
       "<style scoped>\n",
       "    .dataframe tbody tr th:only-of-type {\n",
       "        vertical-align: middle;\n",
       "    }\n",
       "\n",
       "    .dataframe tbody tr th {\n",
       "        vertical-align: top;\n",
       "    }\n",
       "\n",
       "    .dataframe thead th {\n",
       "        text-align: right;\n",
       "    }\n",
       "</style>\n",
       "<table border=\"1\" class=\"dataframe\">\n",
       "  <thead>\n",
       "    <tr style=\"text-align: right;\">\n",
       "      <th></th>\n",
       "      <th>Median Income</th>\n",
       "      <th>Households</th>\n",
       "      <th>Region</th>\n",
       "      <th>Total Household Income</th>\n",
       "    </tr>\n",
       "  </thead>\n",
       "  <tbody>\n",
       "    <tr>\n",
       "      <th>Alexandria</th>\n",
       "      <td>80847</td>\n",
       "      <td>68082</td>\n",
       "      <td>Northern</td>\n",
       "      <td>5504225454</td>\n",
       "    </tr>\n",
       "    <tr>\n",
       "      <th>Amherst</th>\n",
       "      <td>44757</td>\n",
       "      <td>12560</td>\n",
       "      <td>Central</td>\n",
       "      <td>562147920</td>\n",
       "    </tr>\n",
       "    <tr>\n",
       "      <th>Arlington</th>\n",
       "      <td>94880</td>\n",
       "      <td>98050</td>\n",
       "      <td>Northern</td>\n",
       "      <td>9302984000</td>\n",
       "    </tr>\n",
       "    <tr>\n",
       "      <th>Augusta</th>\n",
       "      <td>50612</td>\n",
       "      <td>28516</td>\n",
       "      <td>Central</td>\n",
       "      <td>1443251792</td>\n",
       "    </tr>\n",
       "    <tr>\n",
       "      <th>Bedford</th>\n",
       "      <td>54110</td>\n",
       "      <td>27465</td>\n",
       "      <td>Central</td>\n",
       "      <td>1486131150</td>\n",
       "    </tr>\n",
       "    <tr>\n",
       "      <th>Botetourt</th>\n",
       "      <td>64724</td>\n",
       "      <td>13126</td>\n",
       "      <td>Southwestern</td>\n",
       "      <td>849567224</td>\n",
       "    </tr>\n",
       "    <tr>\n",
       "      <th>Fairfax</th>\n",
       "      <td>105416</td>\n",
       "      <td>391627</td>\n",
       "      <td>Northern</td>\n",
       "      <td>41283751832</td>\n",
       "    </tr>\n",
       "    <tr>\n",
       "      <th>Falls Church</th>\n",
       "      <td>114409</td>\n",
       "      <td>5101</td>\n",
       "      <td>Northern</td>\n",
       "      <td>583600309</td>\n",
       "    </tr>\n",
       "    <tr>\n",
       "      <th>Prince William</th>\n",
       "      <td>91098</td>\n",
       "      <td>130785</td>\n",
       "      <td>Northern</td>\n",
       "      <td>11914251930</td>\n",
       "    </tr>\n",
       "  </tbody>\n",
       "</table>\n",
       "</div>"
      ],
      "text/plain": [
       "                Median Income  Households        Region  \\\n",
       "Alexandria              80847       68082      Northern   \n",
       "Amherst                 44757       12560       Central   \n",
       "Arlington               94880       98050      Northern   \n",
       "Augusta                 50612       28516       Central   \n",
       "Bedford                 54110       27465       Central   \n",
       "Botetourt               64724       13126  Southwestern   \n",
       "Fairfax                105416      391627      Northern   \n",
       "Falls Church           114409        5101      Northern   \n",
       "Prince William          91098      130785      Northern   \n",
       "\n",
       "                Total Household Income  \n",
       "Alexandria                  5504225454  \n",
       "Amherst                      562147920  \n",
       "Arlington                   9302984000  \n",
       "Augusta                     1443251792  \n",
       "Bedford                     1486131150  \n",
       "Botetourt                    849567224  \n",
       "Fairfax                    41283751832  \n",
       "Falls Church                 583600309  \n",
       "Prince William             11914251930  "
      ]
     },
     "execution_count": 102,
     "metadata": {},
     "output_type": "execute_result"
    }
   ],
   "source": [
    "counties"
   ]
  },
  {
   "cell_type": "code",
   "execution_count": 103,
   "id": "5ec9f023-2230-47e9-b783-a9c6426e0488",
   "metadata": {},
   "outputs": [
    {
     "data": {
      "text/html": [
       "<div>\n",
       "<style scoped>\n",
       "    .dataframe tbody tr th:only-of-type {\n",
       "        vertical-align: middle;\n",
       "    }\n",
       "\n",
       "    .dataframe tbody tr th {\n",
       "        vertical-align: top;\n",
       "    }\n",
       "\n",
       "    .dataframe thead th {\n",
       "        text-align: right;\n",
       "    }\n",
       "</style>\n",
       "<table border=\"1\" class=\"dataframe\">\n",
       "  <thead>\n",
       "    <tr style=\"text-align: right;\">\n",
       "      <th></th>\n",
       "      <th>Median Income</th>\n",
       "      <th>Households</th>\n",
       "      <th>Region</th>\n",
       "      <th>Total Household Income</th>\n",
       "    </tr>\n",
       "    <tr>\n",
       "      <th>County</th>\n",
       "      <th></th>\n",
       "      <th></th>\n",
       "      <th></th>\n",
       "      <th></th>\n",
       "    </tr>\n",
       "  </thead>\n",
       "  <tbody>\n",
       "    <tr>\n",
       "      <th>Alexandria</th>\n",
       "      <td>80847</td>\n",
       "      <td>68082</td>\n",
       "      <td>Northern</td>\n",
       "      <td>5504225454</td>\n",
       "    </tr>\n",
       "    <tr>\n",
       "      <th>Amherst</th>\n",
       "      <td>44757</td>\n",
       "      <td>12560</td>\n",
       "      <td>Central</td>\n",
       "      <td>562147920</td>\n",
       "    </tr>\n",
       "    <tr>\n",
       "      <th>Arlington</th>\n",
       "      <td>94880</td>\n",
       "      <td>98050</td>\n",
       "      <td>Northern</td>\n",
       "      <td>9302984000</td>\n",
       "    </tr>\n",
       "    <tr>\n",
       "      <th>Augusta</th>\n",
       "      <td>50612</td>\n",
       "      <td>28516</td>\n",
       "      <td>Central</td>\n",
       "      <td>1443251792</td>\n",
       "    </tr>\n",
       "    <tr>\n",
       "      <th>Bedford</th>\n",
       "      <td>54110</td>\n",
       "      <td>27465</td>\n",
       "      <td>Central</td>\n",
       "      <td>1486131150</td>\n",
       "    </tr>\n",
       "    <tr>\n",
       "      <th>Botetourt</th>\n",
       "      <td>64724</td>\n",
       "      <td>13126</td>\n",
       "      <td>Southwestern</td>\n",
       "      <td>849567224</td>\n",
       "    </tr>\n",
       "    <tr>\n",
       "      <th>Fairfax</th>\n",
       "      <td>105416</td>\n",
       "      <td>391627</td>\n",
       "      <td>Northern</td>\n",
       "      <td>41283751832</td>\n",
       "    </tr>\n",
       "    <tr>\n",
       "      <th>Falls Church</th>\n",
       "      <td>114409</td>\n",
       "      <td>5101</td>\n",
       "      <td>Northern</td>\n",
       "      <td>583600309</td>\n",
       "    </tr>\n",
       "    <tr>\n",
       "      <th>Prince William</th>\n",
       "      <td>91098</td>\n",
       "      <td>130785</td>\n",
       "      <td>Northern</td>\n",
       "      <td>11914251930</td>\n",
       "    </tr>\n",
       "  </tbody>\n",
       "</table>\n",
       "</div>"
      ],
      "text/plain": [
       "                Median Income  Households        Region  \\\n",
       "County                                                    \n",
       "Alexandria              80847       68082      Northern   \n",
       "Amherst                 44757       12560       Central   \n",
       "Arlington               94880       98050      Northern   \n",
       "Augusta                 50612       28516       Central   \n",
       "Bedford                 54110       27465       Central   \n",
       "Botetourt               64724       13126  Southwestern   \n",
       "Fairfax                105416      391627      Northern   \n",
       "Falls Church           114409        5101      Northern   \n",
       "Prince William          91098      130785      Northern   \n",
       "\n",
       "                Total Household Income  \n",
       "County                                  \n",
       "Alexandria                  5504225454  \n",
       "Amherst                      562147920  \n",
       "Arlington                   9302984000  \n",
       "Augusta                     1443251792  \n",
       "Bedford                     1486131150  \n",
       "Botetourt                    849567224  \n",
       "Fairfax                    41283751832  \n",
       "Falls Church                 583600309  \n",
       "Prince William             11914251930  "
      ]
     },
     "execution_count": 103,
     "metadata": {},
     "output_type": "execute_result"
    }
   ],
   "source": [
    "counties.index.name = \"County\"\n",
    "\n",
    "counties"
   ]
  },
  {
   "cell_type": "code",
   "execution_count": 104,
   "id": "dfd0f462-5947-4a60-af72-651ff4bd32c0",
   "metadata": {},
   "outputs": [],
   "source": [
    "counties.to_csv(\"counties.csv\")"
   ]
  },
  {
   "cell_type": "code",
   "execution_count": 105,
   "id": "92d9856d-83b6-47ef-88de-666b9014e7b3",
   "metadata": {},
   "outputs": [
    {
     "data": {
      "text/html": [
       "<div>\n",
       "<style scoped>\n",
       "    .dataframe tbody tr th:only-of-type {\n",
       "        vertical-align: middle;\n",
       "    }\n",
       "\n",
       "    .dataframe tbody tr th {\n",
       "        vertical-align: top;\n",
       "    }\n",
       "\n",
       "    .dataframe thead th {\n",
       "        text-align: right;\n",
       "    }\n",
       "</style>\n",
       "<table border=\"1\" class=\"dataframe\">\n",
       "  <thead>\n",
       "    <tr style=\"text-align: right;\">\n",
       "      <th></th>\n",
       "      <th>Median Income</th>\n",
       "      <th>Households</th>\n",
       "      <th>Region</th>\n",
       "      <th>Total Household Income</th>\n",
       "    </tr>\n",
       "    <tr>\n",
       "      <th>County</th>\n",
       "      <th></th>\n",
       "      <th></th>\n",
       "      <th></th>\n",
       "      <th></th>\n",
       "    </tr>\n",
       "  </thead>\n",
       "  <tbody>\n",
       "    <tr>\n",
       "      <th>Alexandria</th>\n",
       "      <td>80847</td>\n",
       "      <td>68082</td>\n",
       "      <td>Northern</td>\n",
       "      <td>5504225454</td>\n",
       "    </tr>\n",
       "    <tr>\n",
       "      <th>Amherst</th>\n",
       "      <td>44757</td>\n",
       "      <td>12560</td>\n",
       "      <td>Central</td>\n",
       "      <td>562147920</td>\n",
       "    </tr>\n",
       "    <tr>\n",
       "      <th>Arlington</th>\n",
       "      <td>94880</td>\n",
       "      <td>98050</td>\n",
       "      <td>Northern</td>\n",
       "      <td>9302984000</td>\n",
       "    </tr>\n",
       "    <tr>\n",
       "      <th>Augusta</th>\n",
       "      <td>50612</td>\n",
       "      <td>28516</td>\n",
       "      <td>Central</td>\n",
       "      <td>1443251792</td>\n",
       "    </tr>\n",
       "    <tr>\n",
       "      <th>Bedford</th>\n",
       "      <td>54110</td>\n",
       "      <td>27465</td>\n",
       "      <td>Central</td>\n",
       "      <td>1486131150</td>\n",
       "    </tr>\n",
       "    <tr>\n",
       "      <th>Botetourt</th>\n",
       "      <td>64724</td>\n",
       "      <td>13126</td>\n",
       "      <td>Southwestern</td>\n",
       "      <td>849567224</td>\n",
       "    </tr>\n",
       "    <tr>\n",
       "      <th>Fairfax</th>\n",
       "      <td>105416</td>\n",
       "      <td>391627</td>\n",
       "      <td>Northern</td>\n",
       "      <td>41283751832</td>\n",
       "    </tr>\n",
       "    <tr>\n",
       "      <th>Falls Church</th>\n",
       "      <td>114409</td>\n",
       "      <td>5101</td>\n",
       "      <td>Northern</td>\n",
       "      <td>583600309</td>\n",
       "    </tr>\n",
       "    <tr>\n",
       "      <th>Prince William</th>\n",
       "      <td>91098</td>\n",
       "      <td>130785</td>\n",
       "      <td>Northern</td>\n",
       "      <td>11914251930</td>\n",
       "    </tr>\n",
       "  </tbody>\n",
       "</table>\n",
       "</div>"
      ],
      "text/plain": [
       "                Median Income  Households        Region  \\\n",
       "County                                                    \n",
       "Alexandria              80847       68082      Northern   \n",
       "Amherst                 44757       12560       Central   \n",
       "Arlington               94880       98050      Northern   \n",
       "Augusta                 50612       28516       Central   \n",
       "Bedford                 54110       27465       Central   \n",
       "Botetourt               64724       13126  Southwestern   \n",
       "Fairfax                105416      391627      Northern   \n",
       "Falls Church           114409        5101      Northern   \n",
       "Prince William          91098      130785      Northern   \n",
       "\n",
       "                Total Household Income  \n",
       "County                                  \n",
       "Alexandria                  5504225454  \n",
       "Amherst                      562147920  \n",
       "Arlington                   9302984000  \n",
       "Augusta                     1443251792  \n",
       "Bedford                     1486131150  \n",
       "Botetourt                    849567224  \n",
       "Fairfax                    41283751832  \n",
       "Falls Church                 583600309  \n",
       "Prince William             11914251930  "
      ]
     },
     "execution_count": 105,
     "metadata": {},
     "output_type": "execute_result"
    }
   ],
   "source": [
    "counties3 = pd.read_csv(\"counties.csv\", index_col=0)\n",
    "\n",
    "counties3"
   ]
  },
  {
   "cell_type": "code",
   "execution_count": 106,
   "id": "677eab3e-0289-4db3-b324-16cb4a8161e3",
   "metadata": {},
   "outputs": [
    {
     "name": "stdout",
     "output_type": "stream",
     "text": [
      "Collecting package metadata (current_repodata.json): ...working... done\n",
      "Solving environment: ...working... done\n",
      "\n",
      "## Package Plan ##\n",
      "\n",
      "  environment location: C:\\Users\\ericwgreene\\anaconda3\\envs\\jupyter_conda_am\n",
      "\n",
      "  added / updated specs:\n",
      "    - openpyxl\n",
      "\n",
      "\n",
      "The following packages will be downloaded:\n",
      "\n",
      "    package                    |            build\n",
      "    ---------------------------|-----------------\n",
      "    et_xmlfile-1.1.0           |   py39haa95532_0          10 KB\n",
      "    ------------------------------------------------------------\n",
      "                                           Total:          10 KB\n",
      "\n",
      "The following NEW packages will be INSTALLED:\n",
      "\n",
      "  et_xmlfile         pkgs/main/win-64::et_xmlfile-1.1.0-py39haa95532_0\n",
      "  jdcal              pkgs/main/noarch::jdcal-1.4.1-py_0\n",
      "  openpyxl           pkgs/main/noarch::openpyxl-3.0.7-pyhd3eb1b0_0\n",
      "\n",
      "\n",
      "\n",
      "Downloading and Extracting Packages\n",
      "\n",
      "et_xmlfile-1.1.0     | 10 KB     |            |   0% \n",
      "et_xmlfile-1.1.0     | 10 KB     | ########## | 100% \n",
      "et_xmlfile-1.1.0     | 10 KB     | ########## | 100% \n",
      "Preparing transaction: ...working... done\n",
      "Verifying transaction: ...working... done\n",
      "Executing transaction: ...working... done\n"
     ]
    }
   ],
   "source": [
    "import sys\n",
    "\n",
    "# !conda install --yes --prefix {sys.prefix} openpyxl\n",
    "!pip install openpyxl"
   ]
  },
  {
   "cell_type": "code",
   "execution_count": 109,
   "id": "660ba6e5-5b48-4be1-9d4f-7de91b58e89e",
   "metadata": {},
   "outputs": [
    {
     "data": {
      "text/html": [
       "<div>\n",
       "<style scoped>\n",
       "    .dataframe tbody tr th:only-of-type {\n",
       "        vertical-align: middle;\n",
       "    }\n",
       "\n",
       "    .dataframe tbody tr th {\n",
       "        vertical-align: top;\n",
       "    }\n",
       "\n",
       "    .dataframe thead th {\n",
       "        text-align: right;\n",
       "    }\n",
       "</style>\n",
       "<table border=\"1\" class=\"dataframe\">\n",
       "  <thead>\n",
       "    <tr style=\"text-align: right;\">\n",
       "      <th></th>\n",
       "      <th>fixed acidity</th>\n",
       "      <th>volatile acidity</th>\n",
       "      <th>citric acid</th>\n",
       "      <th>residual sugar</th>\n",
       "      <th>chlorides</th>\n",
       "      <th>free sulfur dioxide</th>\n",
       "      <th>total sulfur dioxide</th>\n",
       "      <th>density</th>\n",
       "      <th>pH</th>\n",
       "      <th>sulphates</th>\n",
       "      <th>alcohol</th>\n",
       "      <th>quality</th>\n",
       "    </tr>\n",
       "  </thead>\n",
       "  <tbody>\n",
       "    <tr>\n",
       "      <th>0</th>\n",
       "      <td>11.6</td>\n",
       "      <td>0.580</td>\n",
       "      <td>0.66</td>\n",
       "      <td>2.20</td>\n",
       "      <td>0.074</td>\n",
       "      <td>10.0</td>\n",
       "      <td>47.0</td>\n",
       "      <td>1.00080</td>\n",
       "      <td>3.25</td>\n",
       "      <td>0.57</td>\n",
       "      <td>9.0</td>\n",
       "      <td>3</td>\n",
       "    </tr>\n",
       "    <tr>\n",
       "      <th>1</th>\n",
       "      <td>10.4</td>\n",
       "      <td>0.610</td>\n",
       "      <td>0.49</td>\n",
       "      <td>2.10</td>\n",
       "      <td>0.200</td>\n",
       "      <td>5.0</td>\n",
       "      <td>16.0</td>\n",
       "      <td>0.99940</td>\n",
       "      <td>3.16</td>\n",
       "      <td>0.63</td>\n",
       "      <td>8.4</td>\n",
       "      <td>3</td>\n",
       "    </tr>\n",
       "    <tr>\n",
       "      <th>2</th>\n",
       "      <td>7.4</td>\n",
       "      <td>1.185</td>\n",
       "      <td>0.00</td>\n",
       "      <td>4.25</td>\n",
       "      <td>0.097</td>\n",
       "      <td>5.0</td>\n",
       "      <td>14.0</td>\n",
       "      <td>0.99660</td>\n",
       "      <td>3.63</td>\n",
       "      <td>0.54</td>\n",
       "      <td>10.7</td>\n",
       "      <td>3</td>\n",
       "    </tr>\n",
       "    <tr>\n",
       "      <th>3</th>\n",
       "      <td>10.4</td>\n",
       "      <td>0.440</td>\n",
       "      <td>0.42</td>\n",
       "      <td>1.50</td>\n",
       "      <td>0.145</td>\n",
       "      <td>34.0</td>\n",
       "      <td>48.0</td>\n",
       "      <td>0.99832</td>\n",
       "      <td>3.38</td>\n",
       "      <td>0.86</td>\n",
       "      <td>9.9</td>\n",
       "      <td>3</td>\n",
       "    </tr>\n",
       "    <tr>\n",
       "      <th>4</th>\n",
       "      <td>8.3</td>\n",
       "      <td>1.020</td>\n",
       "      <td>0.02</td>\n",
       "      <td>3.40</td>\n",
       "      <td>0.084</td>\n",
       "      <td>6.0</td>\n",
       "      <td>11.0</td>\n",
       "      <td>0.99892</td>\n",
       "      <td>3.48</td>\n",
       "      <td>0.49</td>\n",
       "      <td>11.0</td>\n",
       "      <td>3</td>\n",
       "    </tr>\n",
       "  </tbody>\n",
       "</table>\n",
       "</div>"
      ],
      "text/plain": [
       "   fixed acidity  volatile acidity  citric acid  residual sugar  chlorides  \\\n",
       "0           11.6             0.580         0.66            2.20      0.074   \n",
       "1           10.4             0.610         0.49            2.10      0.200   \n",
       "2            7.4             1.185         0.00            4.25      0.097   \n",
       "3           10.4             0.440         0.42            1.50      0.145   \n",
       "4            8.3             1.020         0.02            3.40      0.084   \n",
       "\n",
       "   free sulfur dioxide  total sulfur dioxide  density    pH  sulphates  \\\n",
       "0                 10.0                  47.0  1.00080  3.25       0.57   \n",
       "1                  5.0                  16.0  0.99940  3.16       0.63   \n",
       "2                  5.0                  14.0  0.99660  3.63       0.54   \n",
       "3                 34.0                  48.0  0.99832  3.38       0.86   \n",
       "4                  6.0                  11.0  0.99892  3.48       0.49   \n",
       "\n",
       "   alcohol  quality  \n",
       "0      9.0        3  \n",
       "1      8.4        3  \n",
       "2     10.7        3  \n",
       "3      9.9        3  \n",
       "4     11.0        3  "
      ]
     },
     "execution_count": 109,
     "metadata": {},
     "output_type": "execute_result"
    }
   ],
   "source": [
    "import pathlib\n",
    "\n",
    "wine_data_file_name = pathlib.Path(\"exercises\", \"data\", \"Portuguese_VinhoVerde_RedWine_Quality.xlsx\")\n",
    "\n",
    "wine_data = pd.read_excel(wine_data_file_name, \"data\")\n",
    "\n",
    "wine_data.head()"
   ]
  },
  {
   "cell_type": "code",
   "execution_count": 110,
   "id": "aaa060d9-2e52-43cf-87f8-d735ea8826ff",
   "metadata": {},
   "outputs": [
    {
     "data": {
      "text/plain": [
       "fixed acidity           float64\n",
       "volatile acidity        float64\n",
       "citric acid             float64\n",
       "residual sugar          float64\n",
       "chlorides               float64\n",
       "free sulfur dioxide     float64\n",
       "total sulfur dioxide    float64\n",
       "density                 float64\n",
       "pH                      float64\n",
       "sulphates               float64\n",
       "alcohol                 float64\n",
       "quality                   int64\n",
       "dtype: object"
      ]
     },
     "execution_count": 110,
     "metadata": {},
     "output_type": "execute_result"
    }
   ],
   "source": [
    "wine_data.dtypes"
   ]
  },
  {
   "cell_type": "code",
   "execution_count": 111,
   "id": "0020b4f6-c093-4dc0-8e61-62d211a8f31b",
   "metadata": {},
   "outputs": [
    {
     "data": {
      "text/html": [
       "<div>\n",
       "<style scoped>\n",
       "    .dataframe tbody tr th:only-of-type {\n",
       "        vertical-align: middle;\n",
       "    }\n",
       "\n",
       "    .dataframe tbody tr th {\n",
       "        vertical-align: top;\n",
       "    }\n",
       "\n",
       "    .dataframe thead th {\n",
       "        text-align: right;\n",
       "    }\n",
       "</style>\n",
       "<table border=\"1\" class=\"dataframe\">\n",
       "  <thead>\n",
       "    <tr style=\"text-align: right;\">\n",
       "      <th></th>\n",
       "      <th>fixed acidity</th>\n",
       "      <th>volatile acidity</th>\n",
       "      <th>citric acid</th>\n",
       "      <th>residual sugar</th>\n",
       "      <th>chlorides</th>\n",
       "      <th>free sulfur dioxide</th>\n",
       "      <th>total sulfur dioxide</th>\n",
       "      <th>density</th>\n",
       "      <th>pH</th>\n",
       "      <th>sulphates</th>\n",
       "      <th>alcohol</th>\n",
       "      <th>quality</th>\n",
       "    </tr>\n",
       "  </thead>\n",
       "  <tbody>\n",
       "    <tr>\n",
       "      <th>0</th>\n",
       "      <td>11.6</td>\n",
       "      <td>0.580</td>\n",
       "      <td>0.66</td>\n",
       "      <td>2.20</td>\n",
       "      <td>0.074</td>\n",
       "      <td>10</td>\n",
       "      <td>47</td>\n",
       "      <td>1.00080</td>\n",
       "      <td>3.25</td>\n",
       "      <td>0.57</td>\n",
       "      <td>9.0</td>\n",
       "      <td>3</td>\n",
       "    </tr>\n",
       "    <tr>\n",
       "      <th>1</th>\n",
       "      <td>10.4</td>\n",
       "      <td>0.610</td>\n",
       "      <td>0.49</td>\n",
       "      <td>2.10</td>\n",
       "      <td>0.200</td>\n",
       "      <td>5</td>\n",
       "      <td>16</td>\n",
       "      <td>0.99940</td>\n",
       "      <td>3.16</td>\n",
       "      <td>0.63</td>\n",
       "      <td>8.4</td>\n",
       "      <td>3</td>\n",
       "    </tr>\n",
       "    <tr>\n",
       "      <th>2</th>\n",
       "      <td>7.4</td>\n",
       "      <td>1.185</td>\n",
       "      <td>0.00</td>\n",
       "      <td>4.25</td>\n",
       "      <td>0.097</td>\n",
       "      <td>5</td>\n",
       "      <td>14</td>\n",
       "      <td>0.99660</td>\n",
       "      <td>3.63</td>\n",
       "      <td>0.54</td>\n",
       "      <td>10.7</td>\n",
       "      <td>3</td>\n",
       "    </tr>\n",
       "    <tr>\n",
       "      <th>3</th>\n",
       "      <td>10.4</td>\n",
       "      <td>0.440</td>\n",
       "      <td>0.42</td>\n",
       "      <td>1.50</td>\n",
       "      <td>0.145</td>\n",
       "      <td>34</td>\n",
       "      <td>48</td>\n",
       "      <td>0.99832</td>\n",
       "      <td>3.38</td>\n",
       "      <td>0.86</td>\n",
       "      <td>9.9</td>\n",
       "      <td>3</td>\n",
       "    </tr>\n",
       "    <tr>\n",
       "      <th>4</th>\n",
       "      <td>8.3</td>\n",
       "      <td>1.020</td>\n",
       "      <td>0.02</td>\n",
       "      <td>3.40</td>\n",
       "      <td>0.084</td>\n",
       "      <td>6</td>\n",
       "      <td>11</td>\n",
       "      <td>0.99892</td>\n",
       "      <td>3.48</td>\n",
       "      <td>0.49</td>\n",
       "      <td>11.0</td>\n",
       "      <td>3</td>\n",
       "    </tr>\n",
       "    <tr>\n",
       "      <th>...</th>\n",
       "      <td>...</td>\n",
       "      <td>...</td>\n",
       "      <td>...</td>\n",
       "      <td>...</td>\n",
       "      <td>...</td>\n",
       "      <td>...</td>\n",
       "      <td>...</td>\n",
       "      <td>...</td>\n",
       "      <td>...</td>\n",
       "      <td>...</td>\n",
       "      <td>...</td>\n",
       "      <td>...</td>\n",
       "    </tr>\n",
       "    <tr>\n",
       "      <th>1594</th>\n",
       "      <td>8.6</td>\n",
       "      <td>0.420</td>\n",
       "      <td>0.39</td>\n",
       "      <td>1.80</td>\n",
       "      <td>0.068</td>\n",
       "      <td>6</td>\n",
       "      <td>12</td>\n",
       "      <td>0.99516</td>\n",
       "      <td>3.35</td>\n",
       "      <td>0.69</td>\n",
       "      <td>11.7</td>\n",
       "      <td>8</td>\n",
       "    </tr>\n",
       "    <tr>\n",
       "      <th>1595</th>\n",
       "      <td>5.5</td>\n",
       "      <td>0.490</td>\n",
       "      <td>0.03</td>\n",
       "      <td>1.80</td>\n",
       "      <td>0.044</td>\n",
       "      <td>28</td>\n",
       "      <td>87</td>\n",
       "      <td>0.99080</td>\n",
       "      <td>3.50</td>\n",
       "      <td>0.82</td>\n",
       "      <td>14.0</td>\n",
       "      <td>8</td>\n",
       "    </tr>\n",
       "    <tr>\n",
       "      <th>1596</th>\n",
       "      <td>7.2</td>\n",
       "      <td>0.330</td>\n",
       "      <td>0.33</td>\n",
       "      <td>1.70</td>\n",
       "      <td>0.061</td>\n",
       "      <td>3</td>\n",
       "      <td>13</td>\n",
       "      <td>0.99600</td>\n",
       "      <td>3.23</td>\n",
       "      <td>1.10</td>\n",
       "      <td>10.0</td>\n",
       "      <td>8</td>\n",
       "    </tr>\n",
       "    <tr>\n",
       "      <th>1597</th>\n",
       "      <td>7.2</td>\n",
       "      <td>0.380</td>\n",
       "      <td>0.31</td>\n",
       "      <td>2.00</td>\n",
       "      <td>0.056</td>\n",
       "      <td>15</td>\n",
       "      <td>29</td>\n",
       "      <td>0.99472</td>\n",
       "      <td>3.23</td>\n",
       "      <td>0.76</td>\n",
       "      <td>11.3</td>\n",
       "      <td>8</td>\n",
       "    </tr>\n",
       "    <tr>\n",
       "      <th>1598</th>\n",
       "      <td>7.4</td>\n",
       "      <td>0.360</td>\n",
       "      <td>0.30</td>\n",
       "      <td>1.80</td>\n",
       "      <td>0.074</td>\n",
       "      <td>17</td>\n",
       "      <td>24</td>\n",
       "      <td>0.99419</td>\n",
       "      <td>3.24</td>\n",
       "      <td>0.70</td>\n",
       "      <td>11.4</td>\n",
       "      <td>8</td>\n",
       "    </tr>\n",
       "  </tbody>\n",
       "</table>\n",
       "<p>1599 rows × 12 columns</p>\n",
       "</div>"
      ],
      "text/plain": [
       "      fixed acidity  volatile acidity  citric acid  residual sugar  chlorides  \\\n",
       "0              11.6             0.580         0.66            2.20      0.074   \n",
       "1              10.4             0.610         0.49            2.10      0.200   \n",
       "2               7.4             1.185         0.00            4.25      0.097   \n",
       "3              10.4             0.440         0.42            1.50      0.145   \n",
       "4               8.3             1.020         0.02            3.40      0.084   \n",
       "...             ...               ...          ...             ...        ...   \n",
       "1594            8.6             0.420         0.39            1.80      0.068   \n",
       "1595            5.5             0.490         0.03            1.80      0.044   \n",
       "1596            7.2             0.330         0.33            1.70      0.061   \n",
       "1597            7.2             0.380         0.31            2.00      0.056   \n",
       "1598            7.4             0.360         0.30            1.80      0.074   \n",
       "\n",
       "      free sulfur dioxide  total sulfur dioxide  density    pH  sulphates  \\\n",
       "0                      10                    47  1.00080  3.25       0.57   \n",
       "1                       5                    16  0.99940  3.16       0.63   \n",
       "2                       5                    14  0.99660  3.63       0.54   \n",
       "3                      34                    48  0.99832  3.38       0.86   \n",
       "4                       6                    11  0.99892  3.48       0.49   \n",
       "...                   ...                   ...      ...   ...        ...   \n",
       "1594                    6                    12  0.99516  3.35       0.69   \n",
       "1595                   28                    87  0.99080  3.50       0.82   \n",
       "1596                    3                    13  0.99600  3.23       1.10   \n",
       "1597                   15                    29  0.99472  3.23       0.76   \n",
       "1598                   17                    24  0.99419  3.24       0.70   \n",
       "\n",
       "      alcohol  quality  \n",
       "0         9.0        3  \n",
       "1         8.4        3  \n",
       "2        10.7        3  \n",
       "3         9.9        3  \n",
       "4        11.0        3  \n",
       "...       ...      ...  \n",
       "1594     11.7        8  \n",
       "1595     14.0        8  \n",
       "1596     10.0        8  \n",
       "1597     11.3        8  \n",
       "1598     11.4        8  \n",
       "\n",
       "[1599 rows x 12 columns]"
      ]
     },
     "execution_count": 111,
     "metadata": {},
     "output_type": "execute_result"
    }
   ],
   "source": [
    "wine_dtypes = {\n",
    "    \"fixed acidity\": np.float32,\n",
    "    \"volatile acidity\": np.float32,\n",
    "    \"citric acid\": np.float32,\n",
    "    \"residual sugar\": np.float32,\n",
    "    \"chlorides\": np.float32,\n",
    "    \"free sulfur dioxide\": np.int8,\n",
    "    \"total sulfur dioxide\": np.int8,\n",
    "    \"density\": np.float32,\n",
    "    \"pH\": np.float32,\n",
    "    \"sulphates\": np.float32,\n",
    "    \"alcohol\": np.float32,\n",
    "    \"quality\": np.int8,\n",
    "}\n",
    "\n",
    "\n",
    "wine_data = pd.read_excel(wine_data_file_name, \"data\", dtype=wine_dtypes)\n",
    "\n",
    "wine_data"
   ]
  },
  {
   "cell_type": "code",
   "execution_count": 112,
   "id": "82da9803-3f47-4a87-8e54-813a58b26370",
   "metadata": {},
   "outputs": [
    {
     "data": {
      "text/plain": [
       "fixed acidity           float32\n",
       "volatile acidity        float32\n",
       "citric acid             float32\n",
       "residual sugar          float32\n",
       "chlorides               float32\n",
       "free sulfur dioxide        int8\n",
       "total sulfur dioxide       int8\n",
       "density                 float32\n",
       "pH                      float32\n",
       "sulphates               float32\n",
       "alcohol                 float32\n",
       "quality                    int8\n",
       "dtype: object"
      ]
     },
     "execution_count": 112,
     "metadata": {},
     "output_type": "execute_result"
    }
   ],
   "source": [
    "wine_data.dtypes"
   ]
  },
  {
   "cell_type": "code",
   "execution_count": 113,
   "id": "4d931f68-a4b3-4687-b3d2-44287eac685b",
   "metadata": {},
   "outputs": [
    {
     "data": {
      "text/plain": [
       "RangeIndex(start=0, stop=1599, step=1)"
      ]
     },
     "execution_count": 113,
     "metadata": {},
     "output_type": "execute_result"
    }
   ],
   "source": [
    "wine_data.index"
   ]
  },
  {
   "cell_type": "code",
   "execution_count": 114,
   "id": "9962043c-9286-4035-946e-c27150c5a54f",
   "metadata": {},
   "outputs": [
    {
     "data": {
      "text/plain": [
       "Index(['fixed acidity', 'volatile acidity', 'citric acid', 'residual sugar',\n",
       "       'chlorides', 'free sulfur dioxide', 'total sulfur dioxide', 'density',\n",
       "       'pH', 'sulphates', 'alcohol', 'quality'],\n",
       "      dtype='object')"
      ]
     },
     "execution_count": 114,
     "metadata": {},
     "output_type": "execute_result"
    }
   ],
   "source": [
    "wine_data.columns"
   ]
  },
  {
   "cell_type": "code",
   "execution_count": 115,
   "id": "befa022d-6138-41de-83d3-f6f92b2ec4ef",
   "metadata": {},
   "outputs": [
    {
     "data": {
      "text/plain": [
       "array([[11.6  ,  0.58 ,  0.66 , ...,  0.57 ,  9.   ,  3.   ],\n",
       "       [10.4  ,  0.61 ,  0.49 , ...,  0.63 ,  8.4  ,  3.   ],\n",
       "       [ 7.4  ,  1.185,  0.   , ...,  0.54 , 10.7  ,  3.   ],\n",
       "       ...,\n",
       "       [ 7.2  ,  0.33 ,  0.33 , ...,  1.1  , 10.   ,  8.   ],\n",
       "       [ 7.2  ,  0.38 ,  0.31 , ...,  0.76 , 11.3  ,  8.   ],\n",
       "       [ 7.4  ,  0.36 ,  0.3  , ...,  0.7  , 11.4  ,  8.   ]],\n",
       "      dtype=float32)"
      ]
     },
     "execution_count": 115,
     "metadata": {},
     "output_type": "execute_result"
    }
   ],
   "source": [
    "wine_data.values"
   ]
  },
  {
   "cell_type": "code",
   "execution_count": 116,
   "id": "6071958b-57ec-47f6-8fc1-f7c87c9bae83",
   "metadata": {},
   "outputs": [
    {
     "data": {
      "text/plain": [
       "0       3\n",
       "1       3\n",
       "2       3\n",
       "3       3\n",
       "4       3\n",
       "       ..\n",
       "1594    8\n",
       "1595    8\n",
       "1596    8\n",
       "1597    8\n",
       "1598    8\n",
       "Name: quality, Length: 1599, dtype: int8"
      ]
     },
     "execution_count": 116,
     "metadata": {},
     "output_type": "execute_result"
    }
   ],
   "source": [
    "wine_data[\"quality\"]"
   ]
  },
  {
   "cell_type": "code",
   "execution_count": 121,
   "id": "a2316c14-d487-42c0-b9c1-fe3d80bd0bc5",
   "metadata": {},
   "outputs": [
    {
     "data": {
      "text/html": [
       "<div>\n",
       "<style scoped>\n",
       "    .dataframe tbody tr th:only-of-type {\n",
       "        vertical-align: middle;\n",
       "    }\n",
       "\n",
       "    .dataframe tbody tr th {\n",
       "        vertical-align: top;\n",
       "    }\n",
       "\n",
       "    .dataframe thead th {\n",
       "        text-align: right;\n",
       "    }\n",
       "</style>\n",
       "<table border=\"1\" class=\"dataframe\">\n",
       "  <thead>\n",
       "    <tr style=\"text-align: right;\">\n",
       "      <th></th>\n",
       "      <th>A</th>\n",
       "      <th>B</th>\n",
       "    </tr>\n",
       "  </thead>\n",
       "  <tbody>\n",
       "    <tr>\n",
       "      <th>0</th>\n",
       "      <td>0</td>\n",
       "      <td>4</td>\n",
       "    </tr>\n",
       "    <tr>\n",
       "      <th>1</th>\n",
       "      <td>0</td>\n",
       "      <td>4</td>\n",
       "    </tr>\n",
       "  </tbody>\n",
       "</table>\n",
       "</div>"
      ],
      "text/plain": [
       "   A  B\n",
       "0  0  4\n",
       "1  0  4"
      ]
     },
     "metadata": {},
     "output_type": "display_data"
    },
    {
     "data": {
      "text/html": [
       "<div>\n",
       "<style scoped>\n",
       "    .dataframe tbody tr th:only-of-type {\n",
       "        vertical-align: middle;\n",
       "    }\n",
       "\n",
       "    .dataframe tbody tr th {\n",
       "        vertical-align: top;\n",
       "    }\n",
       "\n",
       "    .dataframe thead th {\n",
       "        text-align: right;\n",
       "    }\n",
       "</style>\n",
       "<table border=\"1\" class=\"dataframe\">\n",
       "  <thead>\n",
       "    <tr style=\"text-align: right;\">\n",
       "      <th></th>\n",
       "      <th>C</th>\n",
       "      <th>D</th>\n",
       "    </tr>\n",
       "  </thead>\n",
       "  <tbody>\n",
       "    <tr>\n",
       "      <th>0</th>\n",
       "      <td>1</td>\n",
       "      <td>3</td>\n",
       "    </tr>\n",
       "    <tr>\n",
       "      <th>1</th>\n",
       "      <td>2</td>\n",
       "      <td>3</td>\n",
       "    </tr>\n",
       "    <tr>\n",
       "      <th>2</th>\n",
       "      <td>4</td>\n",
       "      <td>8</td>\n",
       "    </tr>\n",
       "  </tbody>\n",
       "</table>\n",
       "</div>"
      ],
      "text/plain": [
       "   C  D\n",
       "0  1  3\n",
       "1  2  3\n",
       "2  4  8"
      ]
     },
     "metadata": {},
     "output_type": "display_data"
    }
   ],
   "source": [
    "df1 = pd.DataFrame({'A': [0, 0], 'B': [4, 4]})\n",
    "\n",
    "df2 = pd.DataFrame({'C': [1, 2, 4], 'D': [3, 3, 8]})\n",
    "\n",
    "display(df1)\n",
    "display(df2)"
   ]
  },
  {
   "cell_type": "code",
   "execution_count": 123,
   "id": "3d523cf2-f797-4c9b-b635-a07b475e0a31",
   "metadata": {},
   "outputs": [
    {
     "data": {
      "text/plain": [
       "\u001b[1;31mSignature:\u001b[0m \u001b[0mdf1\u001b[0m\u001b[1;33m.\u001b[0m\u001b[0mjoin\u001b[0m\u001b[1;33m(\u001b[0m\u001b[0mother\u001b[0m\u001b[1;33m,\u001b[0m \u001b[0mon\u001b[0m\u001b[1;33m=\u001b[0m\u001b[1;32mNone\u001b[0m\u001b[1;33m,\u001b[0m \u001b[0mhow\u001b[0m\u001b[1;33m=\u001b[0m\u001b[1;34m'left'\u001b[0m\u001b[1;33m,\u001b[0m \u001b[0mlsuffix\u001b[0m\u001b[1;33m=\u001b[0m\u001b[1;34m''\u001b[0m\u001b[1;33m,\u001b[0m \u001b[0mrsuffix\u001b[0m\u001b[1;33m=\u001b[0m\u001b[1;34m''\u001b[0m\u001b[1;33m,\u001b[0m \u001b[0msort\u001b[0m\u001b[1;33m=\u001b[0m\u001b[1;32mFalse\u001b[0m\u001b[1;33m)\u001b[0m \u001b[1;33m->\u001b[0m \u001b[1;34m'DataFrame'\u001b[0m\u001b[1;33m\u001b[0m\u001b[1;33m\u001b[0m\u001b[0m\n",
       "\u001b[1;31mDocstring:\u001b[0m\n",
       "Join columns of another DataFrame.\n",
       "\n",
       "Join columns with `other` DataFrame either on index or on a key\n",
       "column. Efficiently join multiple DataFrame objects by index at once by\n",
       "passing a list.\n",
       "\n",
       "Parameters\n",
       "----------\n",
       "other : DataFrame, Series, or list of DataFrame\n",
       "    Index should be similar to one of the columns in this one. If a\n",
       "    Series is passed, its name attribute must be set, and that will be\n",
       "    used as the column name in the resulting joined DataFrame.\n",
       "on : str, list of str, or array-like, optional\n",
       "    Column or index level name(s) in the caller to join on the index\n",
       "    in `other`, otherwise joins index-on-index. If multiple\n",
       "    values given, the `other` DataFrame must have a MultiIndex. Can\n",
       "    pass an array as the join key if it is not already contained in\n",
       "    the calling DataFrame. Like an Excel VLOOKUP operation.\n",
       "how : {'left', 'right', 'outer', 'inner'}, default 'left'\n",
       "    How to handle the operation of the two objects.\n",
       "\n",
       "    * left: use calling frame's index (or column if on is specified)\n",
       "    * right: use `other`'s index.\n",
       "    * outer: form union of calling frame's index (or column if on is\n",
       "      specified) with `other`'s index, and sort it.\n",
       "      lexicographically.\n",
       "    * inner: form intersection of calling frame's index (or column if\n",
       "      on is specified) with `other`'s index, preserving the order\n",
       "      of the calling's one.\n",
       "lsuffix : str, default ''\n",
       "    Suffix to use from left frame's overlapping columns.\n",
       "rsuffix : str, default ''\n",
       "    Suffix to use from right frame's overlapping columns.\n",
       "sort : bool, default False\n",
       "    Order result DataFrame lexicographically by the join key. If False,\n",
       "    the order of the join key depends on the join type (how keyword).\n",
       "\n",
       "Returns\n",
       "-------\n",
       "DataFrame\n",
       "    A dataframe containing columns from both the caller and `other`.\n",
       "\n",
       "See Also\n",
       "--------\n",
       "DataFrame.merge : For column(s)-on-column(s) operations.\n",
       "\n",
       "Notes\n",
       "-----\n",
       "Parameters `on`, `lsuffix`, and `rsuffix` are not supported when\n",
       "passing a list of `DataFrame` objects.\n",
       "\n",
       "Support for specifying index levels as the `on` parameter was added\n",
       "in version 0.23.0.\n",
       "\n",
       "Examples\n",
       "--------\n",
       ">>> df = pd.DataFrame({'key': ['K0', 'K1', 'K2', 'K3', 'K4', 'K5'],\n",
       "...                    'A': ['A0', 'A1', 'A2', 'A3', 'A4', 'A5']})\n",
       "\n",
       ">>> df\n",
       "  key   A\n",
       "0  K0  A0\n",
       "1  K1  A1\n",
       "2  K2  A2\n",
       "3  K3  A3\n",
       "4  K4  A4\n",
       "5  K5  A5\n",
       "\n",
       ">>> other = pd.DataFrame({'key': ['K0', 'K1', 'K2'],\n",
       "...                       'B': ['B0', 'B1', 'B2']})\n",
       "\n",
       ">>> other\n",
       "  key   B\n",
       "0  K0  B0\n",
       "1  K1  B1\n",
       "2  K2  B2\n",
       "\n",
       "Join DataFrames using their indexes.\n",
       "\n",
       ">>> df.join(other, lsuffix='_caller', rsuffix='_other')\n",
       "  key_caller   A key_other    B\n",
       "0         K0  A0        K0   B0\n",
       "1         K1  A1        K1   B1\n",
       "2         K2  A2        K2   B2\n",
       "3         K3  A3       NaN  NaN\n",
       "4         K4  A4       NaN  NaN\n",
       "5         K5  A5       NaN  NaN\n",
       "\n",
       "If we want to join using the key columns, we need to set key to be\n",
       "the index in both `df` and `other`. The joined DataFrame will have\n",
       "key as its index.\n",
       "\n",
       ">>> df.set_index('key').join(other.set_index('key'))\n",
       "      A    B\n",
       "key\n",
       "K0   A0   B0\n",
       "K1   A1   B1\n",
       "K2   A2   B2\n",
       "K3   A3  NaN\n",
       "K4   A4  NaN\n",
       "K5   A5  NaN\n",
       "\n",
       "Another option to join using the key columns is to use the `on`\n",
       "parameter. DataFrame.join always uses `other`'s index but we can use\n",
       "any column in `df`. This method preserves the original DataFrame's\n",
       "index in the result.\n",
       "\n",
       ">>> df.join(other.set_index('key'), on='key')\n",
       "  key   A    B\n",
       "0  K0  A0   B0\n",
       "1  K1  A1   B1\n",
       "2  K2  A2   B2\n",
       "3  K3  A3  NaN\n",
       "4  K4  A4  NaN\n",
       "5  K5  A5  NaN\n",
       "\u001b[1;31mFile:\u001b[0m      c:\\users\\ericwgreene\\anaconda3\\envs\\jupyter_conda_am\\lib\\site-packages\\pandas\\core\\frame.py\n",
       "\u001b[1;31mType:\u001b[0m      method\n"
      ]
     },
     "metadata": {},
     "output_type": "display_data"
    }
   ],
   "source": [
    "df1.join?"
   ]
  },
  {
   "cell_type": "code",
   "execution_count": 124,
   "id": "7c49db12-eade-400b-9bdd-6661750c83c0",
   "metadata": {},
   "outputs": [
    {
     "data": {
      "text/html": [
       "<div>\n",
       "<style scoped>\n",
       "    .dataframe tbody tr th:only-of-type {\n",
       "        vertical-align: middle;\n",
       "    }\n",
       "\n",
       "    .dataframe tbody tr th {\n",
       "        vertical-align: top;\n",
       "    }\n",
       "\n",
       "    .dataframe thead th {\n",
       "        text-align: right;\n",
       "    }\n",
       "</style>\n",
       "<table border=\"1\" class=\"dataframe\">\n",
       "  <thead>\n",
       "    <tr style=\"text-align: right;\">\n",
       "      <th></th>\n",
       "      <th>A</th>\n",
       "      <th>B</th>\n",
       "      <th>C</th>\n",
       "      <th>D</th>\n",
       "    </tr>\n",
       "  </thead>\n",
       "  <tbody>\n",
       "    <tr>\n",
       "      <th>0</th>\n",
       "      <td>0.0</td>\n",
       "      <td>4.0</td>\n",
       "      <td>1</td>\n",
       "      <td>3</td>\n",
       "    </tr>\n",
       "    <tr>\n",
       "      <th>1</th>\n",
       "      <td>0.0</td>\n",
       "      <td>4.0</td>\n",
       "      <td>2</td>\n",
       "      <td>3</td>\n",
       "    </tr>\n",
       "    <tr>\n",
       "      <th>2</th>\n",
       "      <td>NaN</td>\n",
       "      <td>NaN</td>\n",
       "      <td>4</td>\n",
       "      <td>8</td>\n",
       "    </tr>\n",
       "  </tbody>\n",
       "</table>\n",
       "</div>"
      ],
      "text/plain": [
       "     A    B  C  D\n",
       "0  0.0  4.0  1  3\n",
       "1  0.0  4.0  2  3\n",
       "2  NaN  NaN  4  8"
      ]
     },
     "execution_count": 124,
     "metadata": {},
     "output_type": "execute_result"
    }
   ],
   "source": [
    "df3 = df1.join(df2, how=\"right\")\n",
    "\n",
    "df3"
   ]
  },
  {
   "cell_type": "code",
   "execution_count": 125,
   "id": "636aa0cd-c029-4771-943b-b66c21dce98f",
   "metadata": {},
   "outputs": [
    {
     "data": {
      "text/html": [
       "<div>\n",
       "<style scoped>\n",
       "    .dataframe tbody tr th:only-of-type {\n",
       "        vertical-align: middle;\n",
       "    }\n",
       "\n",
       "    .dataframe tbody tr th {\n",
       "        vertical-align: top;\n",
       "    }\n",
       "\n",
       "    .dataframe thead th {\n",
       "        text-align: right;\n",
       "    }\n",
       "</style>\n",
       "<table border=\"1\" class=\"dataframe\">\n",
       "  <thead>\n",
       "    <tr style=\"text-align: right;\">\n",
       "      <th></th>\n",
       "      <th>A</th>\n",
       "      <th>B</th>\n",
       "    </tr>\n",
       "  </thead>\n",
       "  <tbody>\n",
       "    <tr>\n",
       "      <th>0</th>\n",
       "      <td>0</td>\n",
       "      <td>4</td>\n",
       "    </tr>\n",
       "    <tr>\n",
       "      <th>1</th>\n",
       "      <td>0</td>\n",
       "      <td>4</td>\n",
       "    </tr>\n",
       "  </tbody>\n",
       "</table>\n",
       "</div>"
      ],
      "text/plain": [
       "   A  B\n",
       "0  0  4\n",
       "1  0  4"
      ]
     },
     "metadata": {},
     "output_type": "display_data"
    },
    {
     "data": {
      "text/html": [
       "<div>\n",
       "<style scoped>\n",
       "    .dataframe tbody tr th:only-of-type {\n",
       "        vertical-align: middle;\n",
       "    }\n",
       "\n",
       "    .dataframe tbody tr th {\n",
       "        vertical-align: top;\n",
       "    }\n",
       "\n",
       "    .dataframe thead th {\n",
       "        text-align: right;\n",
       "    }\n",
       "</style>\n",
       "<table border=\"1\" class=\"dataframe\">\n",
       "  <thead>\n",
       "    <tr style=\"text-align: right;\">\n",
       "      <th></th>\n",
       "      <th>A</th>\n",
       "      <th>B</th>\n",
       "    </tr>\n",
       "  </thead>\n",
       "  <tbody>\n",
       "    <tr>\n",
       "      <th>0</th>\n",
       "      <td>1</td>\n",
       "      <td>3</td>\n",
       "    </tr>\n",
       "    <tr>\n",
       "      <th>1</th>\n",
       "      <td>1</td>\n",
       "      <td>3</td>\n",
       "    </tr>\n",
       "  </tbody>\n",
       "</table>\n",
       "</div>"
      ],
      "text/plain": [
       "   A  B\n",
       "0  1  3\n",
       "1  1  3"
      ]
     },
     "metadata": {},
     "output_type": "display_data"
    }
   ],
   "source": [
    "df1 = pd.DataFrame({'A': [0, 0], 'B': [4, 4]})\n",
    "df2 = pd.DataFrame({'A': [1, 1], 'B': [3, 3]})\n",
    "\n",
    "display(df1)\n",
    "display(df2)"
   ]
  },
  {
   "cell_type": "code",
   "execution_count": 129,
   "id": "5031776b-0d78-40dd-9958-12a429a5d63d",
   "metadata": {},
   "outputs": [
    {
     "data": {
      "text/html": [
       "<div>\n",
       "<style scoped>\n",
       "    .dataframe tbody tr th:only-of-type {\n",
       "        vertical-align: middle;\n",
       "    }\n",
       "\n",
       "    .dataframe tbody tr th {\n",
       "        vertical-align: top;\n",
       "    }\n",
       "\n",
       "    .dataframe thead th {\n",
       "        text-align: right;\n",
       "    }\n",
       "</style>\n",
       "<table border=\"1\" class=\"dataframe\">\n",
       "  <thead>\n",
       "    <tr style=\"text-align: right;\">\n",
       "      <th></th>\n",
       "      <th>A</th>\n",
       "      <th>B</th>\n",
       "    </tr>\n",
       "  </thead>\n",
       "  <tbody>\n",
       "    <tr>\n",
       "      <th>0</th>\n",
       "      <td>0</td>\n",
       "      <td>4</td>\n",
       "    </tr>\n",
       "    <tr>\n",
       "      <th>1</th>\n",
       "      <td>0</td>\n",
       "      <td>4</td>\n",
       "    </tr>\n",
       "    <tr>\n",
       "      <th>2</th>\n",
       "      <td>1</td>\n",
       "      <td>3</td>\n",
       "    </tr>\n",
       "    <tr>\n",
       "      <th>3</th>\n",
       "      <td>1</td>\n",
       "      <td>3</td>\n",
       "    </tr>\n",
       "  </tbody>\n",
       "</table>\n",
       "</div>"
      ],
      "text/plain": [
       "   A  B\n",
       "0  0  4\n",
       "1  0  4\n",
       "2  1  3\n",
       "3  1  3"
      ]
     },
     "execution_count": 129,
     "metadata": {},
     "output_type": "execute_result"
    }
   ],
   "source": [
    "df3 = pd.concat([ df1, df2 ])\n",
    "\n",
    "df3.reset_index(drop=True, inplace=True)\n",
    "\n",
    "df3"
   ]
  },
  {
   "cell_type": "code",
   "execution_count": null,
   "id": "c1cf56ad-8040-4456-a0ce-1640ef12eca1",
   "metadata": {},
   "outputs": [],
   "source": []
  }
 ],
 "metadata": {
  "kernelspec": {
   "display_name": "Python 3",
   "language": "python",
   "name": "python3"
  },
  "language_info": {
   "codemirror_mode": {
    "name": "ipython",
    "version": 3
   },
   "file_extension": ".py",
   "mimetype": "text/x-python",
   "name": "python",
   "nbconvert_exporter": "python",
   "pygments_lexer": "ipython3",
   "version": "3.9.5"
  }
 },
 "nbformat": 4,
 "nbformat_minor": 5
}
