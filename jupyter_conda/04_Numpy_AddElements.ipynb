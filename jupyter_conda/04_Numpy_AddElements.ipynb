{
 "cells": [
  {
   "cell_type": "markdown",
   "id": "0a1bc5de-f1be-4c66-b2b4-1f3fb250d8ba",
   "metadata": {},
   "source": [
    "# Add Elements to a NumPy Array"
   ]
  },
  {
   "cell_type": "code",
   "execution_count": 1,
   "id": "215280bc-2936-41e0-bda3-9ea53ae1b404",
   "metadata": {},
   "outputs": [],
   "source": [
    "import numpy as np"
   ]
  },
  {
   "cell_type": "code",
   "execution_count": 3,
   "id": "b69af128-b5d4-439f-b7ba-364194d1e19a",
   "metadata": {},
   "outputs": [
    {
     "data": {
      "text/plain": [
       "array([0, 1, 2, 3, 4])"
      ]
     },
     "execution_count": 3,
     "metadata": {},
     "output_type": "execute_result"
    }
   ],
   "source": [
    "nums = np.arange(5)\n",
    "\n",
    "nums"
   ]
  },
  {
   "cell_type": "markdown",
   "id": "8f00eb82-274a-4f95-ac26-3eecbe7369e9",
   "metadata": {},
   "source": [
    "## Add Item to Array"
   ]
  },
  {
   "cell_type": "code",
   "execution_count": 4,
   "id": "1e049e1a-4d89-4562-9c47-c85692f1dfa6",
   "metadata": {},
   "outputs": [
    {
     "name": "stdout",
     "output_type": "stream",
     "text": [
      "[0 1 2 3 4]\n",
      "[0 1 2 3 4 5]\n"
     ]
    }
   ],
   "source": [
    "new_nums = np.append(nums, 5)\n",
    "\n",
    "print(nums)\n",
    "print(new_nums)"
   ]
  },
  {
   "cell_type": "code",
   "execution_count": 5,
   "id": "d67604c1-4459-4136-9f3e-63d9a9cee4c9",
   "metadata": {},
   "outputs": [
    {
     "name": "stdout",
     "output_type": "stream",
     "text": [
      "[ 0  1  2  3  4  5  6  7  8  9 10]\n"
     ]
    }
   ],
   "source": [
    "new_nums = np.concatenate([ nums, [5], [6,7,8], [9,10]])\n",
    "\n",
    "print(new_nums)"
   ]
  },
  {
   "cell_type": "code",
   "execution_count": 7,
   "id": "bc1aed46-bb5c-4990-bc06-dd96cd6fb57e",
   "metadata": {},
   "outputs": [
    {
     "name": "stdout",
     "output_type": "stream",
     "text": [
      "[0 1 2 3 4]\n",
      "[0 1 9 2 3 4]\n"
     ]
    }
   ],
   "source": [
    "new_nums = np.insert(nums, 2, 9)\n",
    "\n",
    "print(nums)\n",
    "print(new_nums)"
   ]
  },
  {
   "cell_type": "code",
   "execution_count": null,
   "id": "2aa79340-fb0d-4a38-b510-88bc5dcc7c9b",
   "metadata": {},
   "outputs": [],
   "source": []
  }
 ],
 "metadata": {
  "kernelspec": {
   "display_name": "Python 3",
   "language": "python",
   "name": "python3"
  },
  "language_info": {
   "codemirror_mode": {
    "name": "ipython",
    "version": 3
   },
   "file_extension": ".py",
   "mimetype": "text/x-python",
   "name": "python",
   "nbconvert_exporter": "python",
   "pygments_lexer": "ipython3",
   "version": "3.9.5"
  }
 },
 "nbformat": 4,
 "nbformat_minor": 5
}
