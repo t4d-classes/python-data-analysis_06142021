{
 "cells": [
  {
   "cell_type": "markdown",
   "id": "264e7d6a-a3e8-4b9a-8c71-b418bce1f76f",
   "metadata": {},
   "source": [
    "# Performance"
   ]
  },
  {
   "cell_type": "code",
   "execution_count": 1,
   "id": "f3e35ddb-63eb-4e17-93aa-b4d22945ddc7",
   "metadata": {},
   "outputs": [],
   "source": [
    "import sys\n",
    "import numpy as np\n",
    "\n",
    "item_count = 50000000"
   ]
  },
  {
   "cell_type": "code",
   "execution_count": 4,
   "id": "90d9e3c5-ab12-416b-a270-32d4f7e4642a",
   "metadata": {},
   "outputs": [
    {
     "name": "stdout",
     "output_type": "stream",
     "text": [
      "100000000\n",
      "411.943896\n",
      "Wall time: 6.41 s\n"
     ]
    }
   ],
   "source": [
    "%%time\n",
    "\n",
    "nums_list = [ 1 for _ in range(item_count) ]\n",
    "\n",
    "double_nums_list = [ x * 2 for x in nums_list ]\n",
    "\n",
    "double_nums_list_sum = sum(double_nums_list)\n",
    "\n",
    "print(double_nums_list_sum)\n",
    "print(sys.getsizeof(double_nums_list) / 1000000)"
   ]
  },
  {
   "cell_type": "code",
   "execution_count": 5,
   "id": "a05a111b-0300-4065-8b3c-9dca0509372c",
   "metadata": {},
   "outputs": [
    {
     "name": "stdout",
     "output_type": "stream",
     "text": [
      "100000000\n",
      "50.0\n",
      "Wall time: 126 ms\n"
     ]
    }
   ],
   "source": [
    "%%time\n",
    "\n",
    "nums_arr = np.ones(item_count, dtype=\"int8\")\n",
    "\n",
    "double_nums_arr = nums_arr * 2\n",
    "\n",
    "double_nums_arr_sum = np.sum(double_nums_arr)\n",
    "\n",
    "print(double_nums_arr_sum)\n",
    "print(double_nums_arr.nbytes / 1000000)"
   ]
  },
  {
   "cell_type": "code",
   "execution_count": 6,
   "id": "641bdbfd-dbb0-41bc-a073-824d10ca67c7",
   "metadata": {},
   "outputs": [
    {
     "name": "stdout",
     "output_type": "stream",
     "text": [
      "100000000.0\n",
      "float64\n",
      "400.0\n",
      "Wall time: 570 ms\n"
     ]
    }
   ],
   "source": [
    "%%time\n",
    "\n",
    "nums_arr = np.ones(item_count)\n",
    "\n",
    "double_nums_arr = nums_arr * 2\n",
    "\n",
    "double_nums_arr_sum = np.sum(double_nums_arr)\n",
    "\n",
    "print(double_nums_arr_sum)\n",
    "print(double_nums_arr.dtype)\n",
    "print(double_nums_arr.nbytes / 1000000)"
   ]
  },
  {
   "cell_type": "code",
   "execution_count": 8,
   "id": "bf16fb5f-74e3-4ea9-963c-99a77f043ed5",
   "metadata": {},
   "outputs": [
    {
     "name": "stdout",
     "output_type": "stream",
     "text": [
      "100000000\n",
      "int64\n",
      "400.0\n",
      "Wall time: 381 ms\n"
     ]
    }
   ],
   "source": [
    "%%time\n",
    "\n",
    "nums_arr = np.ones(item_count, dtype=\"int64\")\n",
    "\n",
    "double_nums_arr = nums_arr * 2\n",
    "\n",
    "double_nums_arr_sum = np.sum(double_nums_arr)\n",
    "\n",
    "print(double_nums_arr_sum)\n",
    "print(double_nums_arr.dtype)\n",
    "print(double_nums_arr.nbytes / 1000000)"
   ]
  },
  {
   "cell_type": "code",
   "execution_count": 9,
   "id": "8e5af0cb-3905-4558-b5f9-6d2d0a8050ba",
   "metadata": {},
   "outputs": [
    {
     "name": "stdout",
     "output_type": "stream",
     "text": [
      "100000000\n",
      "int32\n",
      "200.0\n",
      "Wall time: 162 ms\n"
     ]
    }
   ],
   "source": [
    "%%time\n",
    "\n",
    "nums_arr = np.ones(item_count, dtype=\"int32\")\n",
    "\n",
    "double_nums_arr = nums_arr * 2\n",
    "\n",
    "double_nums_arr_sum = np.sum(double_nums_arr)\n",
    "\n",
    "print(double_nums_arr_sum)\n",
    "print(double_nums_arr.dtype)\n",
    "print(double_nums_arr.nbytes / 1000000)"
   ]
  },
  {
   "cell_type": "code",
   "execution_count": null,
   "id": "cd9efbc8-e503-4a45-a04d-a3809e2b2691",
   "metadata": {},
   "outputs": [],
   "source": []
  }
 ],
 "metadata": {
  "kernelspec": {
   "display_name": "Python 3",
   "language": "python",
   "name": "python3"
  },
  "language_info": {
   "codemirror_mode": {
    "name": "ipython",
    "version": 3
   },
   "file_extension": ".py",
   "mimetype": "text/x-python",
   "name": "python",
   "nbconvert_exporter": "python",
   "pygments_lexer": "ipython3",
   "version": "3.9.5"
  }
 },
 "nbformat": 4,
 "nbformat_minor": 5
}
