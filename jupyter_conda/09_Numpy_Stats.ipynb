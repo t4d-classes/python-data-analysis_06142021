{
 "cells": [
  {
   "cell_type": "markdown",
   "id": "e25c115e-142c-40e4-8805-e13ac5860201",
   "metadata": {},
   "source": [
    "# NumPy Stats"
   ]
  },
  {
   "cell_type": "code",
   "execution_count": 16,
   "id": "2082e8e0-65cb-45a5-ab52-f8685377a0fd",
   "metadata": {},
   "outputs": [],
   "source": [
    "import math\n",
    "import statistics as stats2\n",
    "\n",
    "from matplotlib import pyplot as plt\n",
    "from matplotlib.ticker import MaxNLocator\n",
    "from scipy import stats\n",
    "import numpy as np\n",
    "\n",
    "%matplotlib inline"
   ]
  },
  {
   "cell_type": "code",
   "execution_count": 22,
   "id": "0f68ab0f-1716-47b4-a87b-ca94ebaaec40",
   "metadata": {},
   "outputs": [
    {
     "name": "stdout",
     "output_type": "stream",
     "text": [
      "9.5\n"
     ]
    }
   ],
   "source": [
    "## Mean\n",
    "\n",
    "# population mean (array 0 to 19)\n",
    "population = np.arange(0,20)\n",
    "print(np.mean(population))"
   ]
  },
  {
   "cell_type": "code",
   "execution_count": 23,
   "id": "8aece916-9d12-4990-a6d7-cacacfd5bd0b",
   "metadata": {},
   "outputs": [
    {
     "data": {
      "text/plain": [
       "9.5"
      ]
     },
     "execution_count": 23,
     "metadata": {},
     "output_type": "execute_result"
    }
   ],
   "source": [
    "population.mean()"
   ]
  },
  {
   "cell_type": "code",
   "execution_count": 24,
   "id": "44ce2ce7-6139-4b4c-aa15-1b152ed30f7a",
   "metadata": {},
   "outputs": [
    {
     "name": "stdout",
     "output_type": "stream",
     "text": [
      "[19  1  4  2  8  6 14 13 15  0 11  3 16 12 18]\n",
      "9.466666666666667\n",
      "[11  6  1  4  2 18 15  7 12 10  5  0  9 19 14]\n",
      "8.866666666666667\n"
     ]
    }
   ],
   "source": [
    "# sample 1 mean\n",
    "sample1 = np.random.choice(population, size=15, replace=False)\n",
    "print(sample1)\n",
    "print(np.mean(sample1)) \n",
    "\n",
    "# sample 2 mean\n",
    "sample2 = np.random.choice(population, size=15, replace=False)\n",
    "print(sample2)\n",
    "print(np.mean(sample2)) "
   ]
  },
  {
   "cell_type": "code",
   "execution_count": 6,
   "id": "ff59a14b-1355-4ef6-ba82-ba2104190fcf",
   "metadata": {},
   "outputs": [
    {
     "name": "stdout",
     "output_type": "stream",
     "text": [
      "10.0\n"
     ]
    }
   ],
   "source": [
    "## Median\n",
    "\n",
    "# population median (array 0 to 20)\n",
    "population = np.arange(0,21)\n",
    "print(np.median(population)) # Example Output: 10.0"
   ]
  },
  {
   "cell_type": "code",
   "execution_count": 7,
   "id": "6e60850f-173e-4a68-bba8-db4d440ccf20",
   "metadata": {},
   "outputs": [
    {
     "name": "stdout",
     "output_type": "stream",
     "text": [
      "14.0\n",
      "12.0\n"
     ]
    }
   ],
   "source": [
    "# sample 1 median\n",
    "sample1 = np.random.choice(population, size=15)\n",
    "print(np.median(sample1)) \n",
    "\n",
    "# sample 2 median\n",
    "sample2 = np.random.choice(population, size=15)\n",
    "print(np.median(sample2)) "
   ]
  },
  {
   "cell_type": "code",
   "execution_count": 8,
   "id": "5c307704-a37b-4579-8358-04fe483bb966",
   "metadata": {},
   "outputs": [
    {
     "name": "stdout",
     "output_type": "stream",
     "text": [
      "5.0\n"
     ]
    }
   ],
   "source": [
    "## Mode\n",
    "\n",
    "nums = np.array([3,5,1,7,2,5,9,1,4,2,6,5], dtype=float)\n",
    "\n",
    "print(stats2.mode(nums)) "
   ]
  },
  {
   "cell_type": "code",
   "execution_count": 9,
   "id": "dd5c3ada-62dd-4fb1-b16b-3611c502dd17",
   "metadata": {},
   "outputs": [
    {
     "name": "stdout",
     "output_type": "stream",
     "text": [
      "833\n",
      "625\n",
      "799\n"
     ]
    }
   ],
   "source": [
    "## Variance\n",
    "\n",
    "population = np.arange(0,100)\n",
    "print(stats2.pvariance(population)) # output 833\n",
    "\n",
    "sample1 = np.random.choice(population, size=80)\n",
    "print(stats2.variance(sample1)) \n",
    "\n",
    "sample2 = np.random.choice(population, size=80)\n",
    "print(stats2.variance(sample2))"
   ]
  },
  {
   "cell_type": "code",
   "execution_count": 10,
   "id": "da166bce-43a3-4bb6-b2c0-23da5a608492",
   "metadata": {},
   "outputs": [
    {
     "name": "stdout",
     "output_type": "stream",
     "text": [
      "28.861739379323623\n",
      "26.664583251946766\n",
      "30.83828789021855\n"
     ]
    }
   ],
   "source": [
    "## Standard Deviation\n",
    "\n",
    "population = np.arange(0,100)\n",
    "print(stats2.pstdev(population)) # outputs 28.861739379323623\n",
    "\n",
    "sample1 = np.random.choice(population, size=80)\n",
    "print(stats2.stdev(sample1))\n",
    "\n",
    "sample2 = np.random.choice(population, size=80)\n",
    "print(stats2.stdev(sample2))"
   ]
  },
  {
   "cell_type": "code",
   "execution_count": 11,
   "id": "805939f5-dda6-45ef-b7d6-53ac2a5f3b04",
   "metadata": {},
   "outputs": [
    {
     "name": "stdout",
     "output_type": "stream",
     "text": [
      "20.0\n",
      "40.0\n",
      "36.0\n",
      "44.0\n"
     ]
    }
   ],
   "source": [
    "## Percentiles\n",
    "\n",
    "nums = np.array([10,20,30,40,50])\n",
    "\n",
    "# 25% percentile output 20.0\n",
    "print(np.percentile(nums, 25))\n",
    "\n",
    "# 75% percentile output 40.0\n",
    "print(np.percentile(nums, 75))\n",
    "\n",
    "# 65% percentile output 36.0\n",
    "print(np.percentile(nums, 65))\n",
    "\n",
    "# 85% percentile output 44.0\n",
    "print(np.percentile(nums, 85))"
   ]
  },
  {
   "cell_type": "code",
   "execution_count": 17,
   "id": "9bb8065a-61bf-49ca-92db-1d85abbf3db1",
   "metadata": {},
   "outputs": [
    {
     "name": "stdout",
     "output_type": "stream",
     "text": [
      "-0.5664917274704082\n"
     ]
    },
    {
     "data": {
      "image/png": "[encoded data removed]",
      "text/plain": [
       "<Figure size 432x288 with 1 Axes>"
      ]
     },
     "metadata": {
      "needs_background": "light"
     },
     "output_type": "display_data"
    }
   ],
   "source": [
    "nums = np.concatenate([\n",
    "    np.random.randint(\n",
    "        (x-1)*10, x*10, size=x*100)\n",
    "    for x in np.arange(10, 0, -1)\n",
    "])\n",
    "\n",
    "print(stats.skew(nums))\n",
    "\n",
    "plt.hist(nums, bins=100)\n",
    "plt.show()"
   ]
  },
  {
   "cell_type": "code",
   "execution_count": 18,
   "id": "75840d36-a44d-4ed0-aac7-326fdacb5c4f",
   "metadata": {},
   "outputs": [
    {
     "name": "stdout",
     "output_type": "stream",
     "text": [
      "0.5583577598063991\n"
     ]
    },
    {
     "data": {
      "image/png": "[encoded data removed]",
      "text/plain": [
       "<Figure size 432x288 with 1 Axes>"
      ]
     },
     "metadata": {
      "needs_background": "light"
     },
     "output_type": "display_data"
    }
   ],
   "source": [
    "nums = np.concatenate([\n",
    "    np.random.randint(\n",
    "        x*10, (x+1)*10, size=(10-x)*100)\n",
    "    for x in np.arange(0, 10, 1)\n",
    "])\n",
    "\n",
    "print(stats.skew(nums))\n",
    "\n",
    "plt.hist(nums, bins=100)\n",
    "plt.show()"
   ]
  },
  {
   "cell_type": "code",
   "execution_count": 19,
   "id": "9ea1ac61-8d38-4d1a-8717-4c399751f328",
   "metadata": {},
   "outputs": [
    {
     "name": "stdout",
     "output_type": "stream",
     "text": [
      "DescribeResult(nobs=20, minmax=(0, 19), mean=9.5, variance=35.0, skewness=0.0, kurtosis=-1.206015037593985)\n"
     ]
    }
   ],
   "source": [
    "nums = np.arange(0,20)\n",
    "\n",
    "# output\n",
    "# DescribeResult(\n",
    "#   nobs=20, minmax=(0, 19), mean=9.5,\n",
    "#   variance=35.0, skewness=0.0,\n",
    "#   kurtosis=-1.206015037593985\n",
    "# )\n",
    "\n",
    "print(stats.describe(nums))"
   ]
  },
  {
   "cell_type": "code",
   "execution_count": 20,
   "id": "36e38611-91b0-4b7a-883e-fd54e1cf7a8d",
   "metadata": {},
   "outputs": [
    {
     "data": {
      "text/plain": [
       "array([1, 1, 1, 3, 0, 0, 1, 2, 3, 4])"
      ]
     },
     "metadata": {},
     "output_type": "display_data"
    },
    {
     "data": {
      "text/plain": [
       "array([2, 1, 3, 0, 4])"
      ]
     },
     "metadata": {},
     "output_type": "display_data"
    },
    {
     "data": {
      "text/plain": [
       "array([3, 7, 9, 1, 7, 9, 5, 7, 5, 7])"
      ]
     },
     "metadata": {},
     "output_type": "display_data"
    }
   ],
   "source": [
    "# Choice\n",
    "\n",
    "display(np.random.choice(5, 10))\n",
    "\n",
    "display(np.random.choice(5, 5, replace=False))\n",
    "\n",
    "arr = np.array([1,3,5,7,9])\n",
    "\n",
    "display(np.random.choice(arr, 10))"
   ]
  },
  {
   "cell_type": "code",
   "execution_count": 25,
   "id": "d0ef4169-3a33-4df8-aaaa-0e11c5f05950",
   "metadata": {},
   "outputs": [
    {
     "data": {
      "image/png": "[encoded data removed]",
      "text/plain": [
       "<Figure size 432x288 with 1 Axes>"
      ]
     },
     "metadata": {
      "needs_background": "light"
     },
     "output_type": "display_data"
    }
   ],
   "source": [
    "# Boxplot\n",
    "\n",
    "first_semester = np.array([65, 67, 68, 72, 72, 80, 81, 82, 82, 91, 91, 91, 93, 94, 91, 91, 91, 93, 94, 100, 100, 100])\n",
    "second_semester = np.array([75, 77, 78, 72, 72, 70, 71, 72, 82, 91, 91, 91, 93, 94, 91, 91, 91, 93, 94, 100, 100, 100])\n",
    "\n",
    "plt.title('Scores by Semester')\n",
    "plt.xlabel('Semester')\n",
    "plt.ylabel('Scores')\n",
    "\n",
    "plt.boxplot([first_semester, second_semester], labels=[\"First\", \"Second\"])\n",
    "plt.show()"
   ]
  },
  {
   "cell_type": "code",
   "execution_count": null,
   "id": "d951d01a-07a7-44ba-9d7c-294c851258b3",
   "metadata": {},
   "outputs": [],
   "source": []
  }
 ],
 "metadata": {
  "kernelspec": {
   "display_name": "Python 3",
   "language": "python",
   "name": "python3"
  },
  "language_info": {
   "codemirror_mode": {
    "name": "ipython",
    "version": 3
   },
   "file_extension": ".py",
   "mimetype": "text/x-python",
   "name": "python",
   "nbconvert_exporter": "python",
   "pygments_lexer": "ipython3",
   "version": "3.9.5"
  }
 },
 "nbformat": 4,
 "nbformat_minor": 5
}
