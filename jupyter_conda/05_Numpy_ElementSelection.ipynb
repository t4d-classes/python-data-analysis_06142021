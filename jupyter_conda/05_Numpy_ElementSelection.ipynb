{
 "cells": [
  {
   "cell_type": "markdown",
   "id": "ec121533-ebc8-4e8b-9eb4-6876a69d389d",
   "metadata": {},
   "source": [
    "# NumPy Element Selection"
   ]
  },
  {
   "cell_type": "code",
   "execution_count": 1,
   "id": "33da8ce3-b137-422f-ba9a-fd3c51567771",
   "metadata": {},
   "outputs": [],
   "source": [
    "import numpy as np"
   ]
  },
  {
   "cell_type": "code",
   "execution_count": 2,
   "id": "b356884c-7db8-4f70-a855-ef40d70bc6d0",
   "metadata": {},
   "outputs": [
    {
     "data": {
      "text/plain": [
       "array([0, 1, 2, 3, 4, 5, 6, 7, 8, 9])"
      ]
     },
     "execution_count": 2,
     "metadata": {},
     "output_type": "execute_result"
    }
   ],
   "source": [
    "nums = np.arange(10)\n",
    "nums"
   ]
  },
  {
   "cell_type": "code",
   "execution_count": 7,
   "id": "b4de8590-748d-483d-92b9-08bec6d3ed0c",
   "metadata": {},
   "outputs": [
    {
     "name": "stdout",
     "output_type": "stream",
     "text": [
      "[False False False False False  True  True  True  True  True]\n",
      "[0 2 3 7 9]\n"
     ]
    }
   ],
   "source": [
    "gt4 = nums > 4\n",
    "\n",
    "print(gt4)\n",
    "\n",
    "# nums_gt4 = nums[gt4]\n",
    "# print(nums_gt4)\n",
    "\n",
    "print(nums[ [True, False, True, True, False, False, False, True, False, True ] ])"
   ]
  },
  {
   "cell_type": "code",
   "execution_count": 8,
   "id": "6ae68b5b-f2c7-436c-ada7-037b44ae2f0c",
   "metadata": {},
   "outputs": [
    {
     "data": {
      "text/plain": [
       "array([-5, -6, -7, -8, -9])"
      ]
     },
     "execution_count": 8,
     "metadata": {},
     "output_type": "execute_result"
    }
   ],
   "source": [
    "nums[nums > 4] * -1"
   ]
  },
  {
   "cell_type": "code",
   "execution_count": 9,
   "id": "10f8d7a4-652a-47ed-82aa-df1bc7840e1d",
   "metadata": {},
   "outputs": [
    {
     "data": {
      "text/plain": [
       "array([0, 1, 2, 3, 4, 5, 6, 7, 8, 9])"
      ]
     },
     "execution_count": 9,
     "metadata": {},
     "output_type": "execute_result"
    }
   ],
   "source": [
    "nums"
   ]
  },
  {
   "cell_type": "code",
   "execution_count": 10,
   "id": "24d7f7bf-9d91-4dd0-986d-0850860c0a25",
   "metadata": {},
   "outputs": [],
   "source": [
    "new_nums = nums[nums > 4] * -1"
   ]
  },
  {
   "cell_type": "code",
   "execution_count": 11,
   "id": "4b4b5103-c3ba-4177-a863-0592f0b7bb2f",
   "metadata": {},
   "outputs": [
    {
     "name": "stdout",
     "output_type": "stream",
     "text": [
      "[0 1 2 3 4 5 6 7 8 9]\n",
      "[-5 -6 -7 -8 -9]\n"
     ]
    }
   ],
   "source": [
    "print(nums)\n",
    "print(new_nums)"
   ]
  },
  {
   "cell_type": "code",
   "execution_count": 12,
   "id": "a497d5f3-b0b4-4c31-a159-f2a5d3e659b4",
   "metadata": {},
   "outputs": [
    {
     "data": {
      "text/plain": [
       "array([0, 1, 2, 3, 4, 5, 6, 7, 8, 9])"
      ]
     },
     "execution_count": 12,
     "metadata": {},
     "output_type": "execute_result"
    }
   ],
   "source": [
    "nums"
   ]
  },
  {
   "cell_type": "code",
   "execution_count": 13,
   "id": "32f1c33f-e360-401e-b577-570b5d5d89be",
   "metadata": {},
   "outputs": [
    {
     "name": "stdout",
     "output_type": "stream",
     "text": [
      "[0 9 2 3 4 5 6 7 8 9]\n"
     ]
    }
   ],
   "source": [
    "nums[1] = 9\n",
    "\n",
    "print(nums)"
   ]
  },
  {
   "cell_type": "code",
   "execution_count": 16,
   "id": "6b295d6c-dfc8-478f-8f90-569f7b8d8d26",
   "metadata": {},
   "outputs": [
    {
     "name": "stdout",
     "output_type": "stream",
     "text": [
      "[0 9 2 9 4 5 6 7 8 9]\n"
     ]
    }
   ],
   "source": [
    "nums[ [1, 3] ] = 9\n",
    "\n",
    "print(nums)"
   ]
  },
  {
   "cell_type": "code",
   "execution_count": 23,
   "id": "ff3c4d62-1cbf-4a4c-a4ef-0db1029bb31e",
   "metadata": {},
   "outputs": [
    {
     "name": "stdout",
     "output_type": "stream",
     "text": [
      "[False False False False False  True  True  True  True  True]\n",
      "[ 0  1  2  3  4 -5 -6 -7 -8 -9]\n"
     ]
    }
   ],
   "source": [
    "nums = np.arange(10)\n",
    "\n",
    "gt4 = nums > 4\n",
    "print(gt4)\n",
    "\n",
    "new_nums = nums[gt4] * -1\n",
    "\n",
    "nums[gt4] = new_nums\n",
    "\n",
    "# less efficient to calculate the selection of greater than 4 twice\n",
    "# nums[nums > 4] = nums[nums > 4] * -1\n",
    "\n",
    "print(nums)"
   ]
  },
  {
   "cell_type": "code",
   "execution_count": 18,
   "id": "08352192-3cc6-48b8-999e-0823257bf275",
   "metadata": {},
   "outputs": [
    {
     "name": "stdout",
     "output_type": "stream",
     "text": [
      "[ 0 -1  2 -3  4  5  6  7  8  9]\n"
     ]
    }
   ],
   "source": [
    "nums = np.arange(10)\n",
    "\n",
    "nums[ [1, 3] ] = nums[ [1, 3] ] * -1\n",
    "\n",
    "print(nums)"
   ]
  },
  {
   "cell_type": "code",
   "execution_count": 24,
   "id": "d1957cb6-d77b-469c-8024-2353c29d39bd",
   "metadata": {},
   "outputs": [
    {
     "name": "stdout",
     "output_type": "stream",
     "text": [
      "[[ 0  1  2  3  4  5]\n",
      " [ 6  7  8  9 10 11]\n",
      " [12 13 14 15 16 17]\n",
      " [18 19 20 21 22 23]\n",
      " [24 25 26 27 28 29]\n",
      " [30 31 32 33 34 35]]\n"
     ]
    }
   ],
   "source": [
    "matrix_nums = np.arange(36).reshape(6,6)\n",
    "\n",
    "print(matrix_nums)"
   ]
  },
  {
   "cell_type": "code",
   "execution_count": 25,
   "id": "09df1802-011e-45ae-9862-27171a515fd2",
   "metadata": {},
   "outputs": [
    {
     "data": {
      "text/plain": [
       "array([ 0,  1,  2,  3,  4,  5,  6,  7,  8,  9, 10, 11, 12, 13, 14, 15, 16,\n",
       "       17, 18, 19, 20, 21, 22, 23, 24, 25, 26, 27, 28, 29, 30, 31, 32, 33,\n",
       "       34, 35])"
      ]
     },
     "execution_count": 25,
     "metadata": {},
     "output_type": "execute_result"
    }
   ],
   "source": [
    "onedim_nums = matrix_nums.reshape(36)\n",
    "\n",
    "onedim_nums"
   ]
  },
  {
   "cell_type": "code",
   "execution_count": 26,
   "id": "31e233c8-3d9f-41b3-9cd9-dcc1cb4e01df",
   "metadata": {},
   "outputs": [
    {
     "data": {
      "text/plain": [
       "array([   0,    1,    2,    3,    4,    5,    6,    7,    8,    9,   10,\n",
       "         11,   12,   13,   14,   15,   16,   17, 9999,   19,   20,   21,\n",
       "         22,   23,   24,   25,   26,   27,   28,   29,   30,   31,   32,\n",
       "         33,   34,   35])"
      ]
     },
     "execution_count": 26,
     "metadata": {},
     "output_type": "execute_result"
    }
   ],
   "source": [
    "onedim_nums[18] = 9999\n",
    "\n",
    "onedim_nums"
   ]
  },
  {
   "cell_type": "code",
   "execution_count": 27,
   "id": "794131f4-aa95-4f48-8115-87a193883f53",
   "metadata": {},
   "outputs": [
    {
     "data": {
      "text/plain": [
       "array([[   0,    1,    2,    3,    4,    5],\n",
       "       [   6,    7,    8,    9,   10,   11],\n",
       "       [  12,   13,   14,   15,   16,   17],\n",
       "       [9999,   19,   20,   21,   22,   23],\n",
       "       [  24,   25,   26,   27,   28,   29],\n",
       "       [  30,   31,   32,   33,   34,   35]])"
      ]
     },
     "execution_count": 27,
     "metadata": {},
     "output_type": "execute_result"
    }
   ],
   "source": [
    "matrix_nums"
   ]
  },
  {
   "cell_type": "code",
   "execution_count": 28,
   "id": "c4e287b7-f6a1-4861-bc98-d6cd32a6637d",
   "metadata": {},
   "outputs": [
    {
     "data": {
      "text/plain": [
       "9"
      ]
     },
     "execution_count": 28,
     "metadata": {},
     "output_type": "execute_result"
    }
   ],
   "source": [
    "matrix_nums[1, 3]"
   ]
  },
  {
   "cell_type": "code",
   "execution_count": 29,
   "id": "ab269c97-a654-44d8-917c-cf9dddf2b25d",
   "metadata": {},
   "outputs": [
    {
     "data": {
      "text/plain": [
       "array([ 6,  7,  8,  9, 10, 11])"
      ]
     },
     "execution_count": 29,
     "metadata": {},
     "output_type": "execute_result"
    }
   ],
   "source": [
    "matrix_nums[1, :]"
   ]
  },
  {
   "cell_type": "code",
   "execution_count": 30,
   "id": "53264782-ed26-4d69-8904-7fcb7613776f",
   "metadata": {},
   "outputs": [
    {
     "data": {
      "text/plain": [
       "array([ 1,  7, 13, 19, 25, 31])"
      ]
     },
     "execution_count": 30,
     "metadata": {},
     "output_type": "execute_result"
    }
   ],
   "source": [
    "matrix_nums[:, 1]"
   ]
  },
  {
   "cell_type": "code",
   "execution_count": 31,
   "id": "3b5f1ff7-05dc-49b8-bf87-83f9a4b957b6",
   "metadata": {},
   "outputs": [
    {
     "data": {
      "text/plain": [
       "array([7, 9])"
      ]
     },
     "execution_count": 31,
     "metadata": {},
     "output_type": "execute_result"
    }
   ],
   "source": [
    "matrix_nums[1, 1:5:2]"
   ]
  },
  {
   "cell_type": "code",
   "execution_count": null,
   "id": "7c3a96d7-9d6a-496f-8daf-29e52aeb42e5",
   "metadata": {},
   "outputs": [],
   "source": []
  }
 ],
 "metadata": {
  "kernelspec": {
   "display_name": "Python 3",
   "language": "python",
   "name": "python3"
  },
  "language_info": {
   "codemirror_mode": {
    "name": "ipython",
    "version": 3
   },
   "file_extension": ".py",
   "mimetype": "text/x-python",
   "name": "python",
   "nbconvert_exporter": "python",
   "pygments_lexer": "ipython3",
   "version": "3.9.5"
  }
 },
 "nbformat": 4,
 "nbformat_minor": 5
}
