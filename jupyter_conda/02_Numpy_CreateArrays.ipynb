{
 "cells": [
  {
   "cell_type": "markdown",
   "id": "2c88f3d3-a828-4eed-a56b-4e77534d3e96",
   "metadata": {},
   "source": [
    "# Create NumPy Arrays"
   ]
  },
  {
   "cell_type": "code",
   "execution_count": 2,
   "id": "8fbff4f1-bac7-4985-9651-c6400f863761",
   "metadata": {},
   "outputs": [],
   "source": [
    "from matplotlib import pyplot as plt\n",
    "import numpy as np\n",
    "\n",
    "%matplotlib inline"
   ]
  },
  {
   "cell_type": "markdown",
   "id": "3195eca8-6ff3-4dff-a5a1-c763c96a18a4",
   "metadata": {},
   "source": [
    "## Create NumPy Arrays from a Python List"
   ]
  },
  {
   "cell_type": "code",
   "execution_count": 3,
   "id": "e598401b-53d2-4b08-ba94-246443b3ba3f",
   "metadata": {},
   "outputs": [
    {
     "name": "stdout",
     "output_type": "stream",
     "text": [
      "[1, 2, 3, 4, 5]\n",
      "[1 2 3 4 5]\n",
      "<class 'list'>\n",
      "<class 'numpy.ndarray'>\n"
     ]
    }
   ],
   "source": [
    "nums_list = [1,2,3,4,5]\n",
    "\n",
    "nums_arr = np.array(nums_list, dtype=\"int16\")\n",
    "\n",
    "print(nums_list)\n",
    "print(nums_arr)\n",
    "\n",
    "print(type(nums_list))\n",
    "print(type(nums_arr))"
   ]
  },
  {
   "cell_type": "markdown",
   "id": "57252257-fd1a-4fcf-880e-108b7291433a",
   "metadata": {},
   "source": [
    "## NumPy Array Attributes"
   ]
  },
  {
   "cell_type": "code",
   "execution_count": 4,
   "id": "7b355b79-3c65-4c31-be3b-df9f1bfca350",
   "metadata": {},
   "outputs": [
    {
     "name": "stdout",
     "output_type": "stream",
     "text": [
      "int16\n",
      "1\n",
      "(5,)\n",
      "5\n"
     ]
    }
   ],
   "source": [
    "print(nums_arr.dtype)\n",
    "print(nums_arr.ndim)\n",
    "print(nums_arr.shape)\n",
    "print(nums_arr.size)"
   ]
  },
  {
   "cell_type": "markdown",
   "id": "7276c3ff-d23a-43b6-b3d1-33f2d994d4f7",
   "metadata": {},
   "source": [
    "## NumPy Array Memory"
   ]
  },
  {
   "cell_type": "code",
   "execution_count": 5,
   "id": "338c5c16-94ce-4297-9c2d-5d5d4f2e6db0",
   "metadata": {},
   "outputs": [
    {
     "name": "stdout",
     "output_type": "stream",
     "text": [
      "2\n",
      "5\n",
      "10\n",
      "10\n"
     ]
    }
   ],
   "source": [
    "print(nums_arr.itemsize)\n",
    "print(nums_arr.size)\n",
    "print(nums_arr.itemsize * nums_arr.size)\n",
    "print(nums_arr.nbytes)"
   ]
  },
  {
   "cell_type": "markdown",
   "id": "95442570-4e4a-48ea-ae9b-1263ad89d31a",
   "metadata": {},
   "source": [
    "## Multi-Dimensional Array"
   ]
  },
  {
   "cell_type": "code",
   "execution_count": 6,
   "id": "b1363c59-989b-4ca2-b301-a29b20e3969a",
   "metadata": {},
   "outputs": [
    {
     "name": "stdout",
     "output_type": "stream",
     "text": [
      "[[[1 2 3]\n",
      "  [4 5 6]]\n",
      "\n",
      " [[1 2 3]\n",
      "  [4 5 6]]]\n",
      "int16\n",
      "3\n",
      "(2, 2, 3)\n",
      "12\n"
     ]
    }
   ],
   "source": [
    "nums_list = [ [ [1,2,3], [4,5,6] ], [ [1,2,3], [4,5,6] ] ]\n",
    "\n",
    "nums_arr = np.array(nums_list, dtype=\"int16\")\n",
    "\n",
    "print(nums_arr)\n",
    "print(nums_arr.dtype)\n",
    "print(nums_arr.ndim)\n",
    "print(nums_arr.shape)\n",
    "print(nums_arr.size)"
   ]
  },
  {
   "cell_type": "markdown",
   "id": "246a9d1d-b2a3-43f6-bbde-ed65b0541ff5",
   "metadata": {},
   "source": [
    "## Array Types"
   ]
  },
  {
   "cell_type": "code",
   "execution_count": 7,
   "id": "cd080839-2488-4b19-809d-f05f71925dea",
   "metadata": {},
   "outputs": [
    {
     "name": "stdout",
     "output_type": "stream",
     "text": [
      "[1. 2. 3. 4. 5.]\n",
      "float64\n",
      "1\n",
      "(5,)\n",
      "5\n"
     ]
    }
   ],
   "source": [
    "nums_list = [1.,2.,3.,4.,5.]\n",
    "\n",
    "nums_arr = np.array(nums_list)\n",
    "\n",
    "print(nums_arr)\n",
    "print(nums_arr.dtype)\n",
    "print(nums_arr.ndim)\n",
    "print(nums_arr.shape)\n",
    "print(nums_arr.size)"
   ]
  },
  {
   "cell_type": "markdown",
   "id": "2bad0e57-5a1d-4e4f-baf8-6d16576a294d",
   "metadata": {},
   "source": [
    "## Create Arrays Filled with Numbers"
   ]
  },
  {
   "cell_type": "code",
   "execution_count": 8,
   "id": "b0ef505b-00b7-4733-addd-4443687f53ba",
   "metadata": {},
   "outputs": [
    {
     "name": "stdout",
     "output_type": "stream",
     "text": [
      "[0, 1, 2, 3, 4, 5, 6, 7, 8, 9]\n"
     ]
    }
   ],
   "source": [
    "nums_list = list(range(10))\n",
    "\n",
    "print(nums_list)"
   ]
  },
  {
   "cell_type": "code",
   "execution_count": 9,
   "id": "e0b55ba5-980b-417f-bcf2-d9060a3abf34",
   "metadata": {},
   "outputs": [
    {
     "name": "stdout",
     "output_type": "stream",
     "text": [
      "[0 1 2 3 4 5 6 7 8 9]\n"
     ]
    }
   ],
   "source": [
    "nums_arr = np.arange(10)\n",
    "print(nums_arr)"
   ]
  },
  {
   "cell_type": "code",
   "execution_count": 10,
   "id": "99668c04-f0d8-44bf-81a5-b396398f5e78",
   "metadata": {},
   "outputs": [
    {
     "name": "stdout",
     "output_type": "stream",
     "text": [
      "[10 11 12 13 14 15 16 17 18 19]\n"
     ]
    }
   ],
   "source": [
    "nums_arr = np.arange(10, 20)\n",
    "print(nums_arr)"
   ]
  },
  {
   "cell_type": "code",
   "execution_count": 11,
   "id": "d1802358-9480-4630-ae38-2a3e0a7164e8",
   "metadata": {},
   "outputs": [
    {
     "name": "stdout",
     "output_type": "stream",
     "text": [
      "[10 12 14 16 18]\n"
     ]
    }
   ],
   "source": [
    "nums_arr = np.arange(10, 20, step=2)\n",
    "print(nums_arr)"
   ]
  },
  {
   "cell_type": "code",
   "execution_count": 12,
   "id": "66c4cc2e-7a39-4b42-90c9-480bf75b89f3",
   "metadata": {},
   "outputs": [
    {
     "name": "stdout",
     "output_type": "stream",
     "text": [
      "[ 0 10 20 30 40 50 60 70 80 90]\n"
     ]
    }
   ],
   "source": [
    "nums_arr = np.arange(100, step=10)\n",
    "print(nums_arr)"
   ]
  },
  {
   "cell_type": "code",
   "execution_count": 13,
   "id": "8c783b3a-a29a-4aee-a524-0d3fab904fc0",
   "metadata": {},
   "outputs": [
    {
     "name": "stdout",
     "output_type": "stream",
     "text": [
      "[ 0. 10. 20. 30. 40. 50. 60. 70. 80. 90.]\n"
     ]
    }
   ],
   "source": [
    "nums_arr = np.arange(100., step=10)\n",
    "print(nums_arr)"
   ]
  },
  {
   "cell_type": "code",
   "execution_count": 14,
   "id": "07c259ac-086e-4f97-955d-adf91e6ff2be",
   "metadata": {},
   "outputs": [
    {
     "name": "stdout",
     "output_type": "stream",
     "text": [
      "[ 0 10 20 30 40 50 60 70 80 90]\n"
     ]
    }
   ],
   "source": [
    "nums_arr = np.arange(100, step=10, dtype=\"int8\")\n",
    "print(nums_arr)"
   ]
  },
  {
   "cell_type": "code",
   "execution_count": 15,
   "id": "4473fc76-80f4-4daf-bf58-e2c1bebe2c5d",
   "metadata": {},
   "outputs": [
    {
     "name": "stdout",
     "output_type": "stream",
     "text": [
      "[ 0 10 20 30 40 50 60 70 80 90]\n"
     ]
    }
   ],
   "source": [
    "nums_arr = np.arange(100, step=10, dtype=np.int8)\n",
    "print(nums_arr)"
   ]
  },
  {
   "cell_type": "code",
   "execution_count": 16,
   "id": "e818310f-d896-4a47-a5a1-c3b864cae68d",
   "metadata": {},
   "outputs": [
    {
     "name": "stdout",
     "output_type": "stream",
     "text": [
      "[ 0.          0.52631579  1.05263158  1.57894737  2.10526316  2.63157895\n",
      "  3.15789474  3.68421053  4.21052632  4.73684211  5.26315789  5.78947368\n",
      "  6.31578947  6.84210526  7.36842105  7.89473684  8.42105263  8.94736842\n",
      "  9.47368421 10.        ]\n"
     ]
    }
   ],
   "source": [
    "nums_arr = np.linspace(0, 10, num=20)\n",
    "print(nums_arr)"
   ]
  },
  {
   "cell_type": "code",
   "execution_count": 17,
   "id": "7beaa690-f475-49ab-85f7-c5ae6c4776b6",
   "metadata": {},
   "outputs": [
    {
     "data": {
      "text/plain": [
       "array([1, 1, 1, 1, 1])"
      ]
     },
     "execution_count": 17,
     "metadata": {},
     "output_type": "execute_result"
    }
   ],
   "source": [
    "x = np.ones(5, dtype=int)\n",
    "x"
   ]
  },
  {
   "cell_type": "code",
   "execution_count": 18,
   "id": "5911c6f5-75d1-4d66-b2c5-b89f5940c794",
   "metadata": {},
   "outputs": [
    {
     "data": {
      "text/plain": [
       "array([1, 1, 1, 1, 1])"
      ]
     },
     "execution_count": 18,
     "metadata": {},
     "output_type": "execute_result"
    }
   ],
   "source": [
    "x = np.ones( (5,), dtype=int)\n",
    "x"
   ]
  },
  {
   "cell_type": "code",
   "execution_count": 19,
   "id": "5b4304d4-c090-4510-a495-a10ac5bc373b",
   "metadata": {},
   "outputs": [
    {
     "data": {
      "text/plain": [
       "array([[1, 1, 1, 1, 1],\n",
       "       [1, 1, 1, 1, 1],\n",
       "       [1, 1, 1, 1, 1],\n",
       "       [1, 1, 1, 1, 1],\n",
       "       [1, 1, 1, 1, 1]])"
      ]
     },
     "execution_count": 19,
     "metadata": {},
     "output_type": "execute_result"
    }
   ],
   "source": [
    "x = np.ones( (5,5), dtype=int)\n",
    "x"
   ]
  },
  {
   "cell_type": "code",
   "execution_count": 20,
   "id": "825b9a79-4286-47c2-aef5-78db86c2e9a0",
   "metadata": {},
   "outputs": [
    {
     "data": {
      "text/plain": [
       "array([[1],\n",
       "       [1],\n",
       "       [1],\n",
       "       [1],\n",
       "       [1]], dtype=int8)"
      ]
     },
     "execution_count": 20,
     "metadata": {},
     "output_type": "execute_result"
    }
   ],
   "source": [
    "x = np.ones( (5,1), dtype=np.int8)\n",
    "x"
   ]
  },
  {
   "cell_type": "code",
   "execution_count": 21,
   "id": "299467d6-2249-4a92-8941-a5265bbe25f6",
   "metadata": {},
   "outputs": [
    {
     "data": {
      "text/plain": [
       "dtype('int8')"
      ]
     },
     "execution_count": 21,
     "metadata": {},
     "output_type": "execute_result"
    }
   ],
   "source": [
    "x.dtype"
   ]
  },
  {
   "cell_type": "code",
   "execution_count": 22,
   "id": "1bb73fef-1de3-447f-976c-35ecd6aace4d",
   "metadata": {},
   "outputs": [
    {
     "data": {
      "text/plain": [
       "array([0, 0, 0, 0, 0])"
      ]
     },
     "execution_count": 22,
     "metadata": {},
     "output_type": "execute_result"
    }
   ],
   "source": [
    "x = np.zeros(5, dtype=int)\n",
    "x"
   ]
  },
  {
   "cell_type": "code",
   "execution_count": 23,
   "id": "8794ecfb-5197-4348-9a74-731f46c22d9b",
   "metadata": {},
   "outputs": [
    {
     "data": {
      "text/plain": [
       "array([0, 0, 0, 0, 0])"
      ]
     },
     "execution_count": 23,
     "metadata": {},
     "output_type": "execute_result"
    }
   ],
   "source": [
    "x = np.zeros( (5,), dtype=int)\n",
    "x"
   ]
  },
  {
   "cell_type": "code",
   "execution_count": 24,
   "id": "15392cc8-2c4d-4efc-b4c3-8e42e2157650",
   "metadata": {},
   "outputs": [
    {
     "data": {
      "text/plain": [
       "array([[0, 0, 0, 0, 0],\n",
       "       [0, 0, 0, 0, 0],\n",
       "       [0, 0, 0, 0, 0],\n",
       "       [0, 0, 0, 0, 0],\n",
       "       [0, 0, 0, 0, 0]])"
      ]
     },
     "execution_count": 24,
     "metadata": {},
     "output_type": "execute_result"
    }
   ],
   "source": [
    "x = np.zeros( (5,5), dtype=int)\n",
    "x"
   ]
  },
  {
   "cell_type": "code",
   "execution_count": 25,
   "id": "4b580381-6d71-4b07-bc31-32466efa8e55",
   "metadata": {},
   "outputs": [
    {
     "data": {
      "text/plain": [
       "array([[7, 7, 7, 7],\n",
       "       [7, 7, 7, 7],\n",
       "       [7, 7, 7, 7],\n",
       "       [7, 7, 7, 7]], dtype=int8)"
      ]
     },
     "execution_count": 25,
     "metadata": {},
     "output_type": "execute_result"
    }
   ],
   "source": [
    "x = np.full( (4,4), 7, dtype=np.int8)\n",
    "x"
   ]
  },
  {
   "cell_type": "code",
   "execution_count": 26,
   "id": "f7d1493c-a1c0-41f8-9730-1ab4ba52c2a2",
   "metadata": {},
   "outputs": [
    {
     "data": {
      "text/plain": [
       "array([[0, 0, 0],\n",
       "       [0, 0, 0],\n",
       "       [0, 0, 0]], dtype=int8)"
      ]
     },
     "execution_count": 26,
     "metadata": {},
     "output_type": "execute_result"
    }
   ],
   "source": [
    "some_arr = np.zeros( (3,3), dtype=np.int8 )\n",
    "\n",
    "some_arr"
   ]
  },
  {
   "cell_type": "code",
   "execution_count": 27,
   "id": "12b68ced-9a20-4416-9507-863b4cf5bfab",
   "metadata": {},
   "outputs": [
    {
     "data": {
      "text/plain": [
       "array([[7, 7, 7],\n",
       "       [7, 7, 7],\n",
       "       [7, 7, 7]], dtype=int8)"
      ]
     },
     "execution_count": 27,
     "metadata": {},
     "output_type": "execute_result"
    }
   ],
   "source": [
    "new_arr = np.full_like(some_arr, 7)\n",
    "\n",
    "new_arr"
   ]
  },
  {
   "cell_type": "markdown",
   "id": "84e13d50-cca6-4fff-a35e-9c006b3fc7de",
   "metadata": {},
   "source": [
    "## Create Arrays from Random Numbers"
   ]
  },
  {
   "cell_type": "code",
   "execution_count": 28,
   "id": "26500f75-d7b3-441a-8167-00ac4efc52c2",
   "metadata": {},
   "outputs": [
    {
     "name": "stdout",
     "output_type": "stream",
     "text": [
      "[0.67689949 0.98190972 0.64162425 0.98194984 0.50274949 0.85001369\n",
      " 0.7312973  0.82149096 0.70566645 0.10860568 0.53611325 0.96924614\n",
      " 0.93057782 0.97018773 0.8014312  0.31106914 0.1477942  0.80644195\n",
      " 0.27901844 0.05998884 0.70425689 0.00188529 0.54622175 0.11294235\n",
      " 0.46972341 0.79937769 0.0139846  0.09558045 0.3950293  0.59710877\n",
      " 0.56675956 0.9482472  0.50059736 0.84656363 0.3856687  0.51218397\n",
      " 0.9104688  0.48000683 0.46248038 0.98013572 0.7677562  0.81312291\n",
      " 0.65379383 0.82682115 0.73858219 0.95808943 0.17086737 0.87639268\n",
      " 0.47364957 0.11617942 0.06899501 0.12856563 0.94028688 0.81857759\n",
      " 0.62755185 0.80888703 0.27269667 0.61932654 0.37790318 0.79960141\n",
      " 0.45645899 0.31832305 0.43931183 0.60652797 0.49362892 0.31326406\n",
      " 0.27446469 0.83186009 0.72745222 0.95652288 0.72069699 0.89811676\n",
      " 0.18654901 0.98124751 0.35645672 0.07621301 0.05195328 0.80068043\n",
      " 0.79429861 0.55838794 0.05994988 0.21948324 0.44425004 0.89471833\n",
      " 0.27127519 0.48005027 0.38756364 0.08237256 0.85041193 0.25352623\n",
      " 0.91994089 0.40427106 0.31158252 0.31096947 0.09222396 0.26739457\n",
      " 0.68871637 0.56680378 0.55041569 0.85738599]\n"
     ]
    }
   ],
   "source": [
    "print(np.random.rand(100))"
   ]
  },
  {
   "cell_type": "code",
   "execution_count": 29,
   "id": "112a4f0b-86ed-4d90-9d3c-15ccc6b8dd5b",
   "metadata": {},
   "outputs": [
    {
     "name": "stdout",
     "output_type": "stream",
     "text": [
      "[23  6  9 51 62 86 94 25 40 76 18 99 99 93  8 20  6  1 22 37 45 51 93 43\n",
      "  3 24 41 23 87 40 14 17 75 15 21 24 91 44 84 55  3 43 94 32 63 76 34 95\n",
      " 31 18]\n"
     ]
    }
   ],
   "source": [
    "print(np.random.randint(0, 100, size=50))"
   ]
  },
  {
   "cell_type": "code",
   "execution_count": 30,
   "id": "151ca971-4559-480c-9aef-bb7d4d768c5d",
   "metadata": {},
   "outputs": [
    {
     "name": "stdout",
     "output_type": "stream",
     "text": [
      "[-0.53498757 -0.78208314  0.86599741 -0.51443222  0.52707214  1.79506372\n",
      "  0.06297024  0.0350387   0.69537946  0.99376584 -2.25162205 -0.68900943\n",
      " -0.37247567  1.81167476 -0.72043271 -0.55390631  1.13996026  1.10446452\n",
      " -0.49440284 -0.1899817 ]\n"
     ]
    }
   ],
   "source": [
    "print(np.random.normal(size=20))"
   ]
  },
  {
   "cell_type": "code",
   "execution_count": 31,
   "id": "2709e4d0-dd67-40ec-978e-7e1ababe280d",
   "metadata": {},
   "outputs": [
    {
     "data": {
      "text/plain": [
       "[<matplotlib.lines.Line2D at 0x1cb07572b50>]"
      ]
     },
     "execution_count": 31,
     "metadata": {},
     "output_type": "execute_result"
    },
    {
     "data": {
      "image/png": "[encoded data removed]",
      "text/plain": [
       "<Figure size 432x288 with 1 Axes>"
      ]
     },
     "metadata": {
      "needs_background": "light"
     },
     "output_type": "display_data"
    }
   ],
   "source": [
    "x = np.arange(1000000)\n",
    "y = np.sort(np.random.normal(size=1000000))\n",
    "\n",
    "plt.plot(x, y)"
   ]
  },
  {
   "cell_type": "code",
   "execution_count": 34,
   "id": "3b2e05a2-2524-4657-99fd-df183c6f394f",
   "metadata": {},
   "outputs": [
    {
     "data": {
      "text/plain": [
       "(array([1., 0., 0., ..., 0., 0., 1.]),\n",
       " array([-4.72952419, -4.72860406, -4.72768393, ...,  4.46995411,\n",
       "         4.47087424,  4.47179437]),\n",
       " <BarContainer object of 10000 artists>)"
      ]
     },
     "execution_count": 34,
     "metadata": {},
     "output_type": "execute_result"
    },
    {
     "data": {
      "image/png": "[encoded data removed]",
      "text/plain": [
       "<Figure size 432x288 with 1 Axes>"
      ]
     },
     "metadata": {
      "needs_background": "light"
     },
     "output_type": "display_data"
    }
   ],
   "source": [
    "plt.hist(y, 10000)"
   ]
  },
  {
   "cell_type": "code",
   "execution_count": null,
   "id": "2f6a204b-277d-4776-bcd3-588481608d72",
   "metadata": {},
   "outputs": [],
   "source": []
  }
 ],
 "metadata": {
  "kernelspec": {
   "display_name": "Python 3",
   "language": "python",
   "name": "python3"
  },
  "language_info": {
   "codemirror_mode": {
    "name": "ipython",
    "version": 3
   },
   "file_extension": ".py",
   "mimetype": "text/x-python",
   "name": "python",
   "nbconvert_exporter": "python",
   "pygments_lexer": "ipython3",
   "version": "3.9.5"
  }
 },
 "nbformat": 4,
 "nbformat_minor": 5
}
