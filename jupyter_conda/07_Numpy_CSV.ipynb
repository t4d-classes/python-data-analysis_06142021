{
 "cells": [
  {
   "cell_type": "markdown",
   "id": "06939917-f19d-44f6-a90e-c6db742600a2",
   "metadata": {},
   "source": [
    "# NumPy CSV"
   ]
  },
  {
   "cell_type": "code",
   "execution_count": null,
   "id": "08588ea8-31fc-4b9f-83ee-bfb2285e7ad7",
   "metadata": {},
   "outputs": [],
   "source": [
    "import csv\n",
    "\n",
    "from matplotlib import pyplot as plt\n",
    "from matplotlib.ticker import MaxNLocator\n",
    "import numpy as np\n",
    "\n",
    "%matplotlib inline"
   ]
  },
  {
   "cell_type": "markdown",
   "id": "c650fecf-2099-42f2-9c65-4afbf61637f5",
   "metadata": {},
   "source": [
    "## CSV - Python Standard Library"
   ]
  },
  {
   "cell_type": "markdown",
   "id": "3e9bba0c-fa3f-4a53-8e98-344400e8194c",
   "metadata": {},
   "source": [
    "### CSV Dictionary Reader when you have headers..."
   ]
  },
  {
   "cell_type": "code",
   "execution_count": null,
   "id": "312b03b7-205d-4d9d-b5bf-9ebc188b47b2",
   "metadata": {},
   "outputs": [],
   "source": [
    "data = []\n",
    "\n",
    "with open(\"data_with_headers.csv\") as csv_file:\n",
    "    \n",
    "    csv_reader = csv.DictReader(csv_file)\n",
    "    \n",
    "    for row in csv_reader:\n",
    "        # print(row[\"b\"])\n",
    "        # data.append(list(row.values()))\n",
    "        data.append([ int(v) for v in row.values() ])\n",
    "\n",
    "data"
   ]
  },
  {
   "cell_type": "markdown",
   "id": "53937044-66f3-462b-b80d-d40e1caf5ebe",
   "metadata": {},
   "source": [
    "### CSV Reader when you do not have headers..."
   ]
  },
  {
   "cell_type": "code",
   "execution_count": null,
   "id": "a0609c1c-95a7-4e6b-ab66-1362913d6745",
   "metadata": {},
   "outputs": [],
   "source": [
    "data = []\n",
    "\n",
    "with open(\"data_without_headers.csv\") as csv_file:\n",
    "    \n",
    "    csv_reader = csv.reader(csv_file)\n",
    "    \n",
    "    for row in csv_reader:\n",
    "        data.append(row)\n",
    "        # data.append([ int(v) for v in row ])\n",
    "        \n",
    "data"
   ]
  },
  {
   "cell_type": "code",
   "execution_count": null,
   "id": "53114d03-8bf3-48a3-a5d6-2ee70f18cd1f",
   "metadata": {},
   "outputs": [],
   "source": [
    "data_arr = np.array(data, dtype=np.int8)\n",
    "\n",
    "print(data_arr.dtype)\n",
    "data_arr"
   ]
  },
  {
   "cell_type": "markdown",
   "id": "c3a9f124-1b9c-4c83-b5b2-7ad6c9a97feb",
   "metadata": {},
   "source": [
    "## CSV - NumPy"
   ]
  },
  {
   "cell_type": "code",
   "execution_count": null,
   "id": "1fe0a48a-ddc5-4837-9d67-9af040ca7d46",
   "metadata": {},
   "outputs": [],
   "source": [
    "data = np.loadtxt(\"data_with_headers.csv\", delimiter=\",\", skiprows=1, dtype=np.int8)\n",
    "\n",
    "data"
   ]
  },
  {
   "cell_type": "markdown",
   "id": "4fb904ac-f398-450a-ac6c-074d6b76de34",
   "metadata": {},
   "source": [
    "## Max, Min, and Sum"
   ]
  },
  {
   "cell_type": "code",
   "execution_count": null,
   "id": "44cddd60-f1fa-4c65-83be-19f2e66cd332",
   "metadata": {},
   "outputs": [],
   "source": [
    "data = np.loadtxt(\"data.csv\", delimiter=\",\", skiprows=1, dtype=np.int8)\n",
    "\n",
    "data"
   ]
  },
  {
   "cell_type": "code",
   "execution_count": null,
   "id": "efa81317-981b-4ef5-a9c5-1da624f12a39",
   "metadata": {},
   "outputs": [],
   "source": [
    "print(np.max(data))\n",
    "print(np.min(data))"
   ]
  },
  {
   "cell_type": "code",
   "execution_count": null,
   "id": "77ac478e-ebf7-4dbd-a8b8-75760f3bd6d1",
   "metadata": {},
   "outputs": [],
   "source": [
    "print(np.max(data, axis=0))\n",
    "print(np.min(data, axis=0))"
   ]
  },
  {
   "cell_type": "code",
   "execution_count": null,
   "id": "baf0d745-aa61-44ab-9634-9ddbf30beef3",
   "metadata": {},
   "outputs": [],
   "source": [
    "print(np.max(data, axis=1))\n",
    "print(np.min(data, axis=1))"
   ]
  },
  {
   "cell_type": "code",
   "execution_count": null,
   "id": "becca60e-e01d-4d79-80b1-cbe5084cada0",
   "metadata": {},
   "outputs": [],
   "source": [
    "print(data.max())\n",
    "print(data.max(axis=0))\n",
    "print(data.max(axis=1))"
   ]
  },
  {
   "cell_type": "code",
   "execution_count": null,
   "id": "83904982-504e-40ef-aa5b-cfa06c881c58",
   "metadata": {},
   "outputs": [],
   "source": [
    "print(data.min())\n",
    "print(data.min(axis=0))\n",
    "print(data.min(axis=1))"
   ]
  },
  {
   "cell_type": "code",
   "execution_count": null,
   "id": "3f812707-1fa5-4cbc-9f93-69eb6fdca7fe",
   "metadata": {},
   "outputs": [],
   "source": [
    "print(np.sum(data))\n",
    "print(np.sum(data, axis=0))\n",
    "print(np.sum(data, axis=1))"
   ]
  },
  {
   "cell_type": "code",
   "execution_count": null,
   "id": "f504ec41-4853-4603-ba74-a865a57c91e0",
   "metadata": {},
   "outputs": [],
   "source": [
    "print(data.sum())\n",
    "print(data.sum(axis=0))\n",
    "print(data.sum(axis=1))"
   ]
  },
  {
   "cell_type": "code",
   "execution_count": null,
   "id": "930d8d7a-6210-4bf6-9def-6ef8ea74b4d8",
   "metadata": {},
   "outputs": [],
   "source": [
    "sum(data) # data.sum(axis=0)"
   ]
  },
  {
   "cell_type": "markdown",
   "id": "1427ac1a-2e8e-4b5a-8e31-397ea8cd652b",
   "metadata": {},
   "source": [
    "## Row and Column Stacking"
   ]
  },
  {
   "cell_type": "code",
   "execution_count": null,
   "id": "0e9ef0bb-d6f6-484a-bd0a-51b85f873324",
   "metadata": {},
   "outputs": [],
   "source": [
    "data = np.loadtxt(\"data.csv\", delimiter=\",\", skiprows=1, dtype=np.int8)\n",
    "\n",
    "data"
   ]
  },
  {
   "cell_type": "code",
   "execution_count": null,
   "id": "17d033c7-13dc-4f3b-851b-3ad973bd0722",
   "metadata": {},
   "outputs": [],
   "source": [
    "# col = np.array([997, 998, 999])\n",
    "\n",
    "row_totals = data.sum(axis=1)\n",
    "\n",
    "data = np.column_stack([ data, row_totals ])\n",
    "\n",
    "data"
   ]
  },
  {
   "cell_type": "code",
   "execution_count": null,
   "id": "1fba76c0-fc57-41d5-8172-69eb81d1bb92",
   "metadata": {},
   "outputs": [],
   "source": [
    "col_totals = data.sum(axis=0)\n",
    "\n",
    "data = np.row_stack([ data,  col_totals ])\n",
    "\n",
    "data"
   ]
  },
  {
   "cell_type": "markdown",
   "id": "99c67f39-0689-42e1-a4e7-7647a0156dba",
   "metadata": {},
   "source": [
    "## Matplotlib Multiple Plots and Chart Customizing"
   ]
  },
  {
   "cell_type": "code",
   "execution_count": null,
   "id": "fa606f87-5682-4c28-9101-5aac01f647f1",
   "metadata": {},
   "outputs": [],
   "source": [
    "car_sales = np.array([\n",
    "    [1,2], [2,3], [3,1], [4,3]\n",
    "])\n",
    "\n",
    "boat_sales = np.array([\n",
    "    [1,1], [2,4], [3,2], [4,3]\n",
    "])\n",
    "\n",
    "ax = plt.figure().gca()\n",
    "ax.xaxis.set_major_locator(MaxNLocator(integer=True))\n",
    "ax.yaxis.set_major_locator(MaxNLocator(integer=True))\n",
    "\n",
    "plt.plot(car_sales[:, 0], car_sales[:, 1], label=\"Cars\", color=\"green\", linestyle=\"dashed\")\n",
    "plt.plot(boat_sales[:, 0], boat_sales[:, 1], label=\"Boats\", color=\"blue\", linestyle=\"dotted\")\n",
    "\n",
    "plt.title(\"Sales by Unit\")\n",
    "plt.xlabel(\"Quarter\")\n",
    "plt.ylabel(\"Units\")\n",
    "\n",
    "plt.legend(loc=\"upper right\")\n",
    "\n",
    "plt.show()"
   ]
  },
  {
   "cell_type": "code",
   "execution_count": null,
   "id": "a75cc7d1-1c25-4f99-bd7d-30084470463b",
   "metadata": {},
   "outputs": [],
   "source": []
  }
 ],
 "metadata": {
  "kernelspec": {
   "display_name": "Python 3",
   "language": "python",
   "name": "python3"
  },
  "language_info": {
   "codemirror_mode": {
    "name": "ipython",
    "version": 3
   },
   "file_extension": ".py",
   "mimetype": "text/x-python",
   "name": "python",
   "nbconvert_exporter": "python",
   "pygments_lexer": "ipython3",
   "version": "3.9.5"
  }
 },
 "nbformat": 4,
 "nbformat_minor": 5
}
