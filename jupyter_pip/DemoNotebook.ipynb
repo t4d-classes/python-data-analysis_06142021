{
 "cells": [
  {
   "cell_type": "code",
   "execution_count": 1,
   "id": "ffb35fb8",
   "metadata": {
    "ExecuteTime": {
     "end_time": "2021-06-14T14:55:19.188219Z",
     "start_time": "2021-06-14T14:55:19.164465Z"
    }
   },
   "outputs": [
    {
     "output_type": "execute_result",
     "data": {
      "text/plain": [
       "2"
      ]
     },
     "metadata": {},
     "execution_count": 1
    }
   ],
   "source": [
    "x = 2\n",
    "\n",
    "x"
   ]
  },
  {
   "cell_type": "markdown",
   "id": "62f53c16",
   "metadata": {},
   "source": [
    "# Here is a header"
   ]
  },
  {
   "cell_type": "code",
   "execution_count": null,
   "id": "840b23d9",
   "metadata": {},
   "outputs": [],
   "source": []
  }
 ],
 "metadata": {
  "kernelspec": {
   "display_name": "jupyter-pip-am",
   "language": "python",
   "name": "jupyter-pip-am"
  },
  "language_info": {
   "codemirror_mode": {
    "name": "ipython",
    "version": 3
   },
   "file_extension": ".py",
   "mimetype": "text/x-python",
   "name": "python",
   "nbconvert_exporter": "python",
   "pygments_lexer": "ipython3",
   "version": ""
  },
  "varInspector": {
   "cols": {
    "lenName": 16,
    "lenType": 16,
    "lenVar": 40
   },
   "kernels_config": {
    "python": {
     "delete_cmd_postfix": "",
     "delete_cmd_prefix": "del ",
     "library": "var_list.py",
     "varRefreshCmd": "print(var_dic_list())"
    },
    "r": {
     "delete_cmd_postfix": ") ",
     "delete_cmd_prefix": "rm(",
     "library": "var_list.r",
     "varRefreshCmd": "cat(var_dic_list()) "
    }
   },
   "types_to_exclude": [
    "module",
    "function",
    "builtin_function_or_method",
    "instance",
    "_Feature"
   ],
   "window_display": false
  }
 },
 "nbformat": 4,
 "nbformat_minor": 5
}